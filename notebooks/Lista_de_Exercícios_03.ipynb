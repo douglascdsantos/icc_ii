{
  "nbformat": 4,
  "nbformat_minor": 0,
  "metadata": {
    "colab": {
      "name": "icc2_lista03.ipynb",
      "provenance": [],
      "toc_visible": true,
      "authorship_tag": "ABX9TyPeaR6rEnjfnOM9Z7iEq20a",
      "include_colab_link": true
    },
    "kernelspec": {
      "name": "python3",
      "display_name": "Python 3"
    },
    "language_info": {
      "name": "python"
    }
  },
  "cells": [
    {
      "cell_type": "markdown",
      "metadata": {
        "id": "view-in-github",
        "colab_type": "text"
      },
      "source": [
        "<a href=\"https://colab.research.google.com/github/douglascdsantos/unesp_icc_ii/blob/main/notebooks/Lista_de_Exerc%C3%ADcios_03.ipynb\" target=\"_parent\"><img src=\"https://colab.research.google.com/assets/colab-badge.svg\" alt=\"Open In Colab\"/></a>"
      ]
    },
    {
      "cell_type": "markdown",
      "metadata": {
        "id": "S4bB3M0Fw-8o"
      },
      "source": [
        "#Introdução à Ciência da Computação II\n",
        "Discente: Douglas Camargo dos Santos"
      ]
    },
    {
      "cell_type": "markdown",
      "metadata": {
        "id": "vBKu_2hkwoiA"
      },
      "source": [
        "#Lista de Exercícios 03"
      ]
    },
    {
      "cell_type": "markdown",
      "metadata": {
        "id": "LL83pwVIekeL"
      },
      "source": [
        "## Exercício 01 (a)\n",
        "<center><img width=\"70%\" src=\"https://cdn.loom.com/images/originals/b62eb29573f14ad2a22edde7043bbea0.jpg?Expires=1637970152&Policy=eyJTdGF0ZW1lbnQiOlt7IlJlc291cmNlIjoiaHR0cHM6Ly9jZG4ubG9vbS5jb20vaW1hZ2VzL29yaWdpbmFscy9iNjJlYjI5NTczZjE0YWQyYTIyZWRkZTcwNDNiYmVhMC5qcGciLCJDb25kaXRpb24iOnsiRGF0ZUxlc3NUaGFuIjp7IkFXUzpFcG9jaFRpbWUiOjE2Mzc5NzAxNTJ9fX1dfQ__&Signature=o9rJZ3HZYBANpfUx-hOD5A-mktGkIDzw~txrSJxKI3R2lKiHNTfHcxRiHxUAIWD4YJdtlFyQQiD8mYRAlawl8w3pHr2FrxqkHvuotQZxPpDGQ~x0s~72xfM5ecx3LZcf1ZQkDjcdxI1UX2pgZHsYK6QfrfK-Ay5Di9Dq~zgI2QKsTM~yh8aE8FPSf4Xn4DeZRWImfb60uUYYeCO6tmnlMOH-VWsxNhAs5Lyf4zVdOa5mcT25-c7hmZwNQh0b5I7UrSgbEZdiRp2fQP-9Qa6Md4ckv~zARjz92tGnSDavC5gvZmUmiVEVnP88qGDXUwXCLKThvfQAGo76RAi20Nxu~w__&Key-Pair-Id=APKAJQIC5BGSW7XXK7FQ\"></center>\n",
        "\n",
        "Erro porque faltou o \"def\" antes do nome da função"
      ]
    },
    {
      "cell_type": "code",
      "metadata": {
        "id": "PJaOhBydeTfq"
      },
      "source": [
        "# multiplica (a, b):\n",
        "#   return a * b\n",
        "# print(multiplica(4,5))"
      ],
      "execution_count": null,
      "outputs": []
    },
    {
      "cell_type": "markdown",
      "metadata": {
        "id": "T1tk_t3yfXte"
      },
      "source": [
        "## Exercício 02 (e)\n",
        "<center><img width=\"70%\" src=\"https://cdn.loom.com/images/originals/a2f6b0d9c116460295296aef00836e38.jpg?Expires=1637970356&Policy=eyJTdGF0ZW1lbnQiOlt7IlJlc291cmNlIjoiaHR0cHM6Ly9jZG4ubG9vbS5jb20vaW1hZ2VzL29yaWdpbmFscy9hMmY2YjBkOWMxMTY0NjAyOTUyOTZhZWYwMDgzNmUzOC5qcGciLCJDb25kaXRpb24iOnsiRGF0ZUxlc3NUaGFuIjp7IkFXUzpFcG9jaFRpbWUiOjE2Mzc5NzAzNTZ9fX1dfQ__&Signature=QQ1NqzuhCnyMwX-yoAGNbfBghwRpeUaYh4wSvcJ0X~r-sYj8qG7SBslDmLB-MDIF7DkViIxCZsjohyZuqDqZ1WQR0n4yf8Ws-a1dJi~04dPl~7eZvv7UOoUYxpbYwuX2ugx0GNwDu1XZY8l5sgF4L1cnkkmv0~UNxN2bv71cJfUk1I4yDQ~UU3cdQSE-AbmNtgHid7AACPZKBXiUuFesEvZpVnJK38Uh-xOCRvKJREEPTxWJEAriD48D--0F0ud3qnhorjLXzZcDK3K8ZnBIIYTuyLJw8LsiMziR6l5rFviBqp9Kaxca9sbi7eVz3-o-87Qtao-gBaTT5-qbmOuMgw__&Key-Pair-Id=APKAJQIC5BGSW7XXK7FQ\"></center>"
      ]
    },
    {
      "cell_type": "code",
      "metadata": {
        "colab": {
          "base_uri": "https://localhost:8080/"
        },
        "id": "o9LQTU_kfRtO",
        "outputId": "2ab943b0-08ae-401d-b67a-fbe3bbb6e16d"
      },
      "source": [
        "def troca(x,y):\n",
        "  aux = x\n",
        "  x = y\n",
        "  y = aux\n",
        "\n",
        "x = 10\n",
        "y = 20\n",
        "print('x =', hex(id(x)),'e y =', hex(id(y)))\n",
        "troca (x,y)\n",
        "print('x =', hex(id(x)),'e y =', hex(id(y)))\n",
        "print('x =', x,'e y =', y)"
      ],
      "execution_count": null,
      "outputs": [
        {
          "output_type": "stream",
          "name": "stdout",
          "text": [
            "x = 0x56364698ab20 e y = 0x56364698ac60\n",
            "x = 0x56364698ab20 e y = 0x56364698ac60\n",
            "x = 10 e y = 20\n"
          ]
        }
      ]
    },
    {
      "cell_type": "markdown",
      "metadata": {
        "id": "pLGL9bOanKFa"
      },
      "source": [
        "## Exercício 03 (a)\n",
        "<center><img width=\"70%\" src=\"https://cdn.loom.com/images/originals/43c9586cd3b44a63a5d1b42d9d3ce391.jpg?Expires=1637972342&Policy=eyJTdGF0ZW1lbnQiOlt7IlJlc291cmNlIjoiaHR0cHM6Ly9jZG4ubG9vbS5jb20vaW1hZ2VzL29yaWdpbmFscy80M2M5NTg2Y2QzYjQ0YTYzYTVkMWI0MmQ5ZDNjZTM5MS5qcGciLCJDb25kaXRpb24iOnsiRGF0ZUxlc3NUaGFuIjp7IkFXUzpFcG9jaFRpbWUiOjE2Mzc5NzIzNDJ9fX1dfQ__&Signature=OuiS2YKLrRgxBNb2jhSp0WzkxawR0kd3ePRcbrBW3OovglnmtES7koafx2fDWC5BUD97Hs61J7xOwqoCjUNwUl4W-OaUvbfsCDXg0EcnyRX6BqnLKMBZ7zEBZHBaaPwppawm~TnF09CfDSF8RwoemXdRkWUvGjIDaYT3ocFO50n~qRxS1i1vX2TBhmUV3zU51Uk9pD7Yhpmru-LE6v3IGGBdGdxPdVgicOtNRKJOTPCPiAHKfDDuO7zfWOfM4q8ifkFN~ttE~3pf1VOxMgDZqFLRQ6bZGVoW3OIVW0oQlmtV-V-6ozFoV6693FPY5oK1HSrWssyPQ8MsZqGbfiVCtQ__&Key-Pair-Id=APKAJQIC5BGSW7XXK7FQ\"></center>"
      ]
    },
    {
      "cell_type": "code",
      "metadata": {
        "colab": {
          "base_uri": "https://localhost:8080/"
        },
        "id": "UrI3d1XigeVC",
        "outputId": "d5521b10-204b-494d-ccb4-d98f3c0734c1"
      },
      "source": [
        "def total_Caracteres_a (x, y, z):\n",
        "  return len(x) + len(y) + len(z)\n",
        "total_Caracteres_a('Douglas','Camargo','Santos')"
      ],
      "execution_count": null,
      "outputs": [
        {
          "output_type": "execute_result",
          "data": {
            "text/plain": [
              "20"
            ]
          },
          "metadata": {},
          "execution_count": 12
        }
      ]
    },
    {
      "cell_type": "code",
      "metadata": {
        "id": "mkosL4L-n5kE"
      },
      "source": [
        "# def total_Caracteres_b (x, y, z):\n",
        "#   return sum(len(x) + len(y) + len(z))\n",
        "# total_Caracteres_b('Douglas','Camargo','Santos')\n",
        "\n",
        "# retorna: TypeError: 'int' object is not iterable"
      ],
      "execution_count": null,
      "outputs": []
    },
    {
      "cell_type": "code",
      "metadata": {
        "id": "BY58_rVNopB6"
      },
      "source": [
        "# def total_Caracteres_c (x, y, z):\n",
        "#   return len(x,y,z)\n",
        "# total_Caracteres_c('Douglas','Camargo','Santos')\n",
        "\n",
        "# retorna: TypeError: len() takes exactly one argument (3 given)"
      ],
      "execution_count": null,
      "outputs": []
    },
    {
      "cell_type": "markdown",
      "metadata": {
        "id": "dOX9xHC7pydk"
      },
      "source": [
        "## Exercício 04 (a)\n",
        "<center><img width=\"70%\" src=\"https://cdn.loom.com/images/originals/f5303c50a457497eb2182497bc8382d4.jpg?Expires=1637973091&Policy=eyJTdGF0ZW1lbnQiOlt7IlJlc291cmNlIjoiaHR0cHM6Ly9jZG4ubG9vbS5jb20vaW1hZ2VzL29yaWdpbmFscy9mNTMwM2M1MGE0NTc0OTdlYjIxODI0OTdiYzgzODJkNC5qcGciLCJDb25kaXRpb24iOnsiRGF0ZUxlc3NUaGFuIjp7IkFXUzpFcG9jaFRpbWUiOjE2Mzc5NzMwOTF9fX1dfQ__&Signature=ObtVp8wzOaRMV2MXQ4ApZLmb81J4s7hinVQUAQmDWKhaTyZoTiEiWlSWzj9n~-35vIv4AihnO1QtCUmVdpNOQ0vylsN~2HitZ1yVpBpF1mdns8faEkXxDWvaocDCoAAnOIm7OmUv8lusl6c-DsUBLxyCySjpITjZkjFS7Q5RCz-4g62bPvVijcHIsGhAi8pe2BmgU7IgK~FDJPn8w0VMK0Uth39woUrG1lXRWSr9z-RVPP3ZVKgWbN4obQpBOIG8inynvdgQOq8m8QPWvMts3hq3Vx0XSfMKj1uckeODcWeOIBwrno0OFFfJc4rzdvVuL8qpOiU6gNqoRmNLX6Y4jg__&Key-Pair-Id=APKAJQIC5BGSW7XXK7FQ\"></center>"
      ]
    },
    {
      "cell_type": "code",
      "metadata": {
        "colab": {
          "base_uri": "https://localhost:8080/"
        },
        "id": "OQGQNhtfpWgU",
        "outputId": "800f0f57-83c6-4fb0-85d6-a2c00154ee21"
      },
      "source": [
        "import math\n",
        "def suspense(x):\n",
        "  return math.sqrt(x)\n",
        "suspense(16)"
      ],
      "execution_count": null,
      "outputs": [
        {
          "output_type": "execute_result",
          "data": {
            "text/plain": [
              "4.0"
            ]
          },
          "metadata": {},
          "execution_count": 20
        }
      ]
    },
    {
      "cell_type": "markdown",
      "metadata": {
        "id": "CgQxIWW-t_Aj"
      },
      "source": [
        "## Exercício 05 (c, e)\n",
        "<center><img width=\"70%\" src=\"https://cdn.loom.com/images/originals/de7ec4d1200e40debd3ef40f1cfba9ad.jpg?Expires=1637974193&Policy=eyJTdGF0ZW1lbnQiOlt7IlJlc291cmNlIjoiaHR0cHM6Ly9jZG4ubG9vbS5jb20vaW1hZ2VzL29yaWdpbmFscy9kZTdlYzRkMTIwMGU0MGRlYmQzZWY0MGYxY2ZiYTlhZC5qcGciLCJDb25kaXRpb24iOnsiRGF0ZUxlc3NUaGFuIjp7IkFXUzpFcG9jaFRpbWUiOjE2Mzc5NzQxOTN9fX1dfQ__&Signature=d3XvnU-ei-NQ9VVBhITskdCPzbUuUDZEZkUziokIiNsYrhrA2Ch~uRfsv3jMlOlAULeGLAYzsi1gpdHuO6MzQux6qb3fUyDFafcFD12rmYEsu~Wv4DJNG8ic0RSH0sZ58BEYASTf7HSW7WYCGOZ-lYvD3JGHdvCLGvSNbwbyhLbWUWCVYL7FIRkasPDztuuZMYsNp-2nTOguNojwuLZ2KNvbbGfO~mYmBGwhmDBYqA~l6h05~Np8sESf4l7mYPQwerh9T5YUOKiXdC30OMSz~U2HgqET6FNnRRZg7QaaSTjqIuFTN6UIJWL2821lA6DIs0jX0YbdRRI5CJUeqlQxVA__&Key-Pair-Id=APKAJQIC5BGSW7XXK7FQ\"></center>\n",
        "\n",
        "- a e d não funcionado de cara pois falta \"def\";\n",
        "- b já inicia com x < 0 dessa forma nem entra no laço while e sempre retorna -1;\n",
        "- c e e funciona confome pedido;\n"
      ]
    },
    {
      "cell_type": "code",
      "metadata": {
        "id": "ZxMXJiPHt0fY",
        "colab": {
          "base_uri": "https://localhost:8080/"
        },
        "outputId": "3a279d6f-86d6-495c-dd55-8634fff5e9b6"
      },
      "source": [
        "# b)\n",
        "def leitura():\n",
        "  x = -1\n",
        "  while x > 0:\n",
        "    x = int(input('Digite um valor: '))\n",
        "  return x\n",
        "leitura()"
      ],
      "execution_count": null,
      "outputs": [
        {
          "output_type": "execute_result",
          "data": {
            "text/plain": [
              "-1"
            ]
          },
          "metadata": {},
          "execution_count": 9
        }
      ]
    },
    {
      "cell_type": "code",
      "metadata": {
        "id": "3wila2wuBwUG",
        "colab": {
          "base_uri": "https://localhost:8080/"
        },
        "outputId": "e016cd22-452a-44a7-8088-40a9f2ae749c"
      },
      "source": [
        "# c)\n",
        "def leitura():\n",
        "  x = int(input('Digite um valor: '))\n",
        "  while x <= 0:\n",
        "    x = int(input('Digite um valor: '))\n",
        "  return x\n",
        "leitura()"
      ],
      "execution_count": null,
      "outputs": [
        {
          "name": "stdout",
          "output_type": "stream",
          "text": [
            "Digite um valor: 0\n",
            "Digite um valor: 15\n"
          ]
        },
        {
          "output_type": "execute_result",
          "data": {
            "text/plain": [
              "15"
            ]
          },
          "metadata": {},
          "execution_count": 11
        }
      ]
    },
    {
      "cell_type": "code",
      "metadata": {
        "id": "5eWazqBKDLqe",
        "colab": {
          "base_uri": "https://localhost:8080/"
        },
        "outputId": "b3e3a577-5c40-4134-cd9e-2de3bc81e181"
      },
      "source": [
        "# e)\n",
        "def leitura():\n",
        "  x = -1\n",
        "  while x <= 0:\n",
        "    x = int(input('Digite um valor: '))\n",
        "  return x\n",
        "leitura()"
      ],
      "execution_count": null,
      "outputs": [
        {
          "name": "stdout",
          "output_type": "stream",
          "text": [
            "Digite um valor: 0\n",
            "Digite um valor: 10\n"
          ]
        },
        {
          "output_type": "execute_result",
          "data": {
            "text/plain": [
              "10"
            ]
          },
          "metadata": {},
          "execution_count": 12
        }
      ]
    },
    {
      "cell_type": "markdown",
      "metadata": {
        "id": "d5GMEnX7JVps"
      },
      "source": [
        "## Exercício 06 (a,c,d,e)\n",
        "<center><img width=\"70%\" src=\"https://cdn.loom.com/images/originals/16d9e2557f264512b91ff2f0d1b44087.jpg?Expires=1638065252&Policy=eyJTdGF0ZW1lbnQiOlt7IlJlc291cmNlIjoiaHR0cHM6Ly9jZG4ubG9vbS5jb20vaW1hZ2VzL29yaWdpbmFscy8xNmQ5ZTI1NTdmMjY0NTEyYjkxZmYyZjBkMWI0NDA4Ny5qcGciLCJDb25kaXRpb24iOnsiRGF0ZUxlc3NUaGFuIjp7IkFXUzpFcG9jaFRpbWUiOjE2MzgwNjUyNTJ9fX1dfQ__&Signature=U4ZEDYupsYvbvlMLt8dVW8786f~6mPejsNYA1cFZS6pI4dW3XuyaMYQ9fUNvb~n9dGrL3pgGeB3exVBS6IqePNV6cFjYT7xHMg1n7kulbuF~8NA1kte0agf4dY-Zmx1IIpbssmN-JfRpRzeTZ1ayoP~jB2ZOSKwqGRFbA2H39JW~Y5-fFRxPulNOM9hc-IOSdzSXfxqVTgrNm6vLe24am22rJPMOp7UakKgYr4eBTehbQX16LqETuDeJQ5pZOphHdFMuvDjUeFU3~R0Ov2tqcKFyJ-gUUSk-lH77~RY3ZKP8jKcqdJ-9GbgxRcWPNPx1eItwcBRWnfyJsZJ0zAQdYQ__&Key-Pair-Id=APKAJQIC5BGSW7XXK7FQ\"></center>\n"
      ]
    },
    {
      "cell_type": "markdown",
      "metadata": {
        "id": "DlJyZr2fDjod"
      },
      "source": [
        "## Exercício 07\n",
        "<center><img width=\"70%\" src=\"https://cdn.loom.com/images/originals/c14753e15f154dc7a9843f3408d3c63d.jpg?Expires=1638097288&Policy=eyJTdGF0ZW1lbnQiOlt7IlJlc291cmNlIjoiaHR0cHM6Ly9jZG4ubG9vbS5jb20vaW1hZ2VzL29yaWdpbmFscy9jMTQ3NTNlMTVmMTU0ZGM3YTk4NDNmMzQwOGQzYzYzZC5qcGciLCJDb25kaXRpb24iOnsiRGF0ZUxlc3NUaGFuIjp7IkFXUzpFcG9jaFRpbWUiOjE2MzgwOTcyODh9fX1dfQ__&Signature=fWHHnnGLqnIwNddjRJsAY5RVrR4a2r99RGu-JYgTa5zkIwVGE0KrJcEurvReG9GDqb9gI91v3bU1~~9e6cTkxLlw8SCPmZ5zzWo4Ir0E-u2jPHVWOsqE4yCZOPyybQLw1uepXbV8EDwR9yfVSKJz47C2R6rslXFhqF9wDsLS1TZnMzKv-iGYl2bdDDutXnNTtaAnbHUK5HXO3KObkDTwQQ8OOU2qVH2LpUqdJoHZ6-tcqwKddVi31qzePXP5YdvUpQY7t7EjKErOvt1aRE~Ip4isPKBV02AF8lEbl7XY4c8kCM0DxY7pQolxdyPht2pEhmO-K2WXM57xl8Y6KkAg8A__&Key-Pair-Id=APKAJQIC5BGSW7XXK7FQ\"></center>\n"
      ]
    },
    {
      "cell_type": "code",
      "metadata": {
        "id": "b2SFD3oyx1In",
        "colab": {
          "base_uri": "https://localhost:8080/"
        },
        "outputId": "18388686-ee7a-454e-e5ee-53fd7acb490d"
      },
      "source": [
        "def eh_multiplo (num1,num2):\n",
        "  if num1 > num2:\n",
        "    maior = num1\n",
        "    menor = num2\n",
        "  else:\n",
        "    maior = num2\n",
        "    menor = num1\n",
        "  if maior % menor == 0:\n",
        "    resultado = 1\n",
        "  else:\n",
        "    resultado = 0\n",
        "  return resultado\n",
        "\n",
        "print(f'Valores testes 10 e 6: {eh_multiplo(10,6)}')\n",
        "print(f'Valores testes 6 e 10: {eh_multiplo(6,10)}')\n",
        "print(f'Valores testes 10 e 5: {eh_multiplo(10,5)}')\n",
        "print(f'Valores testes 5 e 10: {eh_multiplo(5,10)}')"
      ],
      "execution_count": null,
      "outputs": [
        {
          "output_type": "stream",
          "name": "stdout",
          "text": [
            "Valores testes 10 e 6: 0\n",
            "Valores testes 6 e 10: 0\n",
            "Valores testes 10 e 5: 1\n",
            "Valores testes 5 e 10: 1\n"
          ]
        }
      ]
    },
    {
      "cell_type": "markdown",
      "metadata": {
        "id": "qW6k8exeIsMt"
      },
      "source": [
        "## Exercício 08\n",
        "<center><img width=\"70%\" src=\"https://cdn.loom.com/images/originals/881e9d7067a8456599cf0f80fb695219.jpg?Expires=1638098628&Policy=eyJTdGF0ZW1lbnQiOlt7IlJlc291cmNlIjoiaHR0cHM6Ly9jZG4ubG9vbS5jb20vaW1hZ2VzL29yaWdpbmFscy84ODFlOWQ3MDY3YTg0NTY1OTljZjBmODBmYjY5NTIxOS5qcGciLCJDb25kaXRpb24iOnsiRGF0ZUxlc3NUaGFuIjp7IkFXUzpFcG9jaFRpbWUiOjE2MzgwOTg2Mjh9fX1dfQ__&Signature=W~a7w0bRDAr4BcK3-B8nVe7H0xhtmlZjA~MphzrC93M56ohJ1QMBpsEEp1kIH5lB2z4uG-dmkIVCqB4pavugF8hQG2EUd-3j6nPPmVJ2UxFbPfZcZny1WSc8hEEwIkZH8HZRLDxbJKWHyaNtpNwX3Mc6-jTgvz2B9EpGOZA5WeJEbvfEhsQC0cu344n3fzFGpczEIoGzcModdavwJdWCe06hTO0SVbfPpo4Wx~nmK17SiOVCHT7c07xvfAgt5-viLXKBET0wue8fY~65lzfQfbfraq~cDpM8plPNqQA19oWP8kmG2QvdPAqlwuhjWJ5km8IznsfQiWZpbKivVP~U7A__&Key-Pair-Id=APKAJQIC5BGSW7XXK7FQ\"></center>\n"
      ]
    },
    {
      "cell_type": "code",
      "metadata": {
        "id": "vTGRlJBoEgtK",
        "colab": {
          "base_uri": "https://localhost:8080/"
        },
        "outputId": "28ca133d-f273-41fb-db9a-100d69106b44"
      },
      "source": [
        "def areaCirculo (raio):\n",
        "  import math\n",
        "  return math.pi * raio **2\n",
        "\n",
        "def areaTriangulo(base,altura):\n",
        "  return (base * altura)/2\n",
        "\n",
        "def areaRetangulo (base,altura):\n",
        "  return base * altura\n",
        "\n",
        "print(f'Um circulo de raio = 5, possui área = {areaCirculo(5)}')\n",
        "print(f'Um triangulo de base 15 e altura 7, possui área = {areaTriangulo(15,7)}')\n",
        "print(f'Um retangulo de base 5 e altura 23, possui área = {areaRetangulo(5,23)}')"
      ],
      "execution_count": null,
      "outputs": [
        {
          "output_type": "stream",
          "name": "stdout",
          "text": [
            "Um circulo de raio = 5, possui área = 78.53981633974483\n",
            "Um triangulo de base 15 e altura 7, possui área = 52.5\n",
            "Um retangulo de base 5 e altura 23, possui área = 115\n"
          ]
        }
      ]
    },
    {
      "cell_type": "markdown",
      "metadata": {
        "id": "P5Zu5VXWKkHc"
      },
      "source": [
        "## Exercício 09\n",
        "<center><img width=\"70%\" src=\"https://cdn.loom.com/images/originals/d8d017f20cd74ae39b2bb3c17040406f.jpg?Expires=1638099118&Policy=eyJTdGF0ZW1lbnQiOlt7IlJlc291cmNlIjoiaHR0cHM6Ly9jZG4ubG9vbS5jb20vaW1hZ2VzL29yaWdpbmFscy9kOGQwMTdmMjBjZDc0YWUzOWIyYmIzYzE3MDQwNDA2Zi5qcGciLCJDb25kaXRpb24iOnsiRGF0ZUxlc3NUaGFuIjp7IkFXUzpFcG9jaFRpbWUiOjE2MzgwOTkxMTh9fX1dfQ__&Signature=eh60qCH6ZIlRzB-3M16vPC-wrLtnzaYqlcEZFCPitM2JbtRmRFbamoiN-ovhv6ZD6pafrVrejL4iUSkIu9IF2yQ1X28o6n6zD0ciZMVC5yShsVmhv5vpB4g1IrqqCVSN2dCV3OnDvCwyfjvAKcADP1z75kbpIAgwG99xs5stN9SL51zXGkv5hu4A0lBzK7h8xGcIxqHpdvtNShY7fiqLiIJeyuWtzNItLlC9cwbuvik34uD0bpVUIBu8aOYQ7SkvrzuClnptYW7IFyaqxU3fHQYJ6PAbvPdZiDT1eJo4qVcNrNulmuBuwGcg8c5ps8wNCwDVJLXNP3m8YwfuS7UJUg__&Key-Pair-Id=APKAJQIC5BGSW7XXK7FQ\"></center>\n"
      ]
    },
    {
      "cell_type": "code",
      "metadata": {
        "id": "sNQftNHCP3Q2",
        "colab": {
          "base_uri": "https://localhost:8080/"
        },
        "outputId": "b5c86521-d6f8-48e5-845d-f55a2ce871f4"
      },
      "source": [
        "def calc_fatorial (num):\n",
        "  produto = 1\n",
        "  for numero in range(num):\n",
        "    produto = produto * (numero + 1)\n",
        "  return produto\n",
        "\n",
        "def calc_c (k,n):\n",
        "  while k > n:\n",
        "    print(f'\\nVocê inseriu de maneira incorrenta, pois {k} > {n}, tente novamente:')\n",
        "    k = int(input('\\tInsira k tal que k <= n: '))\n",
        "    n = int(input('\\tInsira n tal que k <= n: '))\n",
        "  c = calc_fatorial(n) / (calc_fatorial(k) * calc_fatorial(n - k))\n",
        "  return c\n",
        "\n",
        "print('Insira k e n como números inteiros, tal que k <= n:\\n')\n",
        "k = int(input('\\tValor de k: '))\n",
        "n = int(input('\\tValor de n: '))\n",
        "\n",
        "print(f'\\nA combinação simples de n elementos distintos tomados k a k é de: {calc_c(k,n)}')"
      ],
      "execution_count": null,
      "outputs": [
        {
          "output_type": "stream",
          "name": "stdout",
          "text": [
            "Insira k e n como números inteiros, tal que k <= n:\n",
            "\n",
            "\tValor de k: 13\n",
            "\tValor de n: 6\n",
            "\n",
            "Você inseriu de maneira incorrenta, pois 13 > 6, tente novamente:\n",
            "\tInsira k tal que k <= n: 6\n",
            "\tInsira n tal que k  <= n: 13\n",
            "\n",
            "A combinação simples de n elementos distintos tomados k a k é de: 1716.0\n"
          ]
        }
      ]
    },
    {
      "cell_type": "markdown",
      "metadata": {
        "id": "NPuI_3mOZ_Km"
      },
      "source": [
        "## Exercício 10\n",
        "<center><img width=\"70%\" src=\"https://cdn.loom.com/images/originals/b2ab6a4003c24474a76e04c61182affa.jpg?Expires=1638119951&Policy=eyJTdGF0ZW1lbnQiOlt7IlJlc291cmNlIjoiaHR0cHM6Ly9jZG4ubG9vbS5jb20vaW1hZ2VzL29yaWdpbmFscy9iMmFiNmE0MDAzYzI0NDc0YTc2ZTA0YzYxMTgyYWZmYS5qcGciLCJDb25kaXRpb24iOnsiRGF0ZUxlc3NUaGFuIjp7IkFXUzpFcG9jaFRpbWUiOjE2MzgxMTk5NTF9fX1dfQ__&Signature=Vgx~zgHIdteaAzygc6A-M0TpCchSGB1va6DGmpy5ZoF7nt6ZGjGiCBSVs6dn-Gi18GgqQYKNpjfD6V3NwoTYmzcH8H5RMCYobQBYYMsXtoSnhuGxFlEkX1VzX9ncFmqYovCSmT74SeF9j1Ya0taODoaH8QjTUxeWRXj6hEIzm4iat-9RA1RqYarczFqiW1x63B~UIt0H1ybognAwrZldZBGVb89y~itXubrhFvmp06p8G-EvfR1vf5HuebeXqIJCSJub63oEQXCFe2ju-4pwG0gvAiAw7Ev8WdvZghqXK4f8DdjvZkcJ87RMHmr-YwUWPii-~BMJ1U3KZ6UxXRAxmA__&Key-Pair-Id=APKAJQIC5BGSW7XXK7FQ\"></center>\n"
      ]
    },
    {
      "cell_type": "code",
      "metadata": {
        "id": "x0huhwppP8bq",
        "colab": {
          "base_uri": "https://localhost:8080/"
        },
        "outputId": "f96e2f39-008e-4df8-a4fc-c3572570cb56"
      },
      "source": [
        "import random\n",
        "# lista de teste\n",
        "lista = [random.randint(1,99) for i in range(10)]\n",
        "print(f'A lista de teste: {lista}')\n",
        "def lista_impar (lista):\n",
        "  return [numero for numero in lista if numero % 2 != 0]\n",
        "print(f'A lista dos valores impares: {lista_impar(lista)}')"
      ],
      "execution_count": null,
      "outputs": [
        {
          "output_type": "stream",
          "name": "stdout",
          "text": [
            "A lista de teste: [2, 33, 8, 47, 29, 45, 23, 64, 11, 63]\n",
            "A lista dos valores impares: [33, 47, 29, 45, 23, 11, 63]\n"
          ]
        }
      ]
    },
    {
      "cell_type": "markdown",
      "metadata": {
        "id": "EqV9zYCNkqo1"
      },
      "source": [
        "## Exercício 11\n",
        "<center><img width=\"70%\" src=\"https://cdn.loom.com/images/originals/5c3e5558d98b4f58afa1c94e3cd28f5f.jpg?Expires=1638122748&Policy=eyJTdGF0ZW1lbnQiOlt7IlJlc291cmNlIjoiaHR0cHM6Ly9jZG4ubG9vbS5jb20vaW1hZ2VzL29yaWdpbmFscy81YzNlNTU1OGQ5OGI0ZjU4YWZhMWM5NGUzY2QyOGY1Zi5qcGciLCJDb25kaXRpb24iOnsiRGF0ZUxlc3NUaGFuIjp7IkFXUzpFcG9jaFRpbWUiOjE2MzgxMjI3NDh9fX1dfQ__&Signature=FfJBcSXOqVf-nv8spmVi-ofLE1SIlu3LQ7yX3NwW~gPZYSkDIsicDrNn6dqabFUR0bxUnR6CPWrKVjKJO7ZFICf0rErfu33HajX4AnsYGjdpsv5oIHUI5a0JPQRtwfnY54ZKmcPyJ7hrLNF-a7NzMiOpphSmQnAEXfCvFSJG2i7e9xNHq95LDYBXE4--eUPYQ6Zb~Ax--XEUP7bBPVZxG0Dc8xc5U8MdKemIpWUVeZaAWoFxfwyrok1cYIzEwZMsqDASbgiN7siXiCp3h833KBsWKX3a2WL7XWaRlW146tZRhy4cvgmZOIPVyNAKuLYXbfHnBBRPfvlA1ajH0CEgiQ__&Key-Pair-Id=APKAJQIC5BGSW7XXK7FQ\"></center>\n"
      ]
    },
    {
      "cell_type": "code",
      "metadata": {
        "id": "A2ikngfQixPV",
        "colab": {
          "base_uri": "https://localhost:8080/"
        },
        "outputId": "507f9631-d7b1-41bc-bf19-c956ce08bf37"
      },
      "source": [
        "def qtd_primos(qtd):\n",
        "  #laço para receber um valor positivo e maior que zero\n",
        "  while(qtd<1):\n",
        "    qtd = int(input('Quanto números primos você quer visualizar? '))\n",
        "    if qtd < 1:\n",
        "      print('\\nO valor inserido deve ser um inteiro maior que zero, tente novamente.\\n')\n",
        "  # como o menor valor inserido pelo usuário será 1 então 2 sempre vai contem\n",
        "  primos = [2]\n",
        "  num = 2\n",
        "  # laço que irá repetir até ter o número de primos pedido\n",
        "  while len(primos) < qtd:\n",
        "    lista_teste = [numero + 3 for numero in range(num-2)]\n",
        "    soma = [num % 2]\n",
        "    for i in lista_teste[0:-1:2]:\n",
        "      soma.append(num % i) \n",
        "    if soma.count(0) == 0:\n",
        "      primos.append(num)\n",
        "    # atualizando contador para verificar o próximo número\n",
        "    num += 1\n",
        "  return primos\n",
        "\n",
        "qtd_primos(15)"
      ],
      "execution_count": null,
      "outputs": [
        {
          "output_type": "execute_result",
          "data": {
            "text/plain": [
              "[2, 3, 5, 7, 11, 13, 17, 19, 23, 29, 31, 37, 41, 43, 47]"
            ]
          },
          "metadata": {},
          "execution_count": 74
        }
      ]
    }
  ]
}