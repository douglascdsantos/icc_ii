{
  "nbformat": 4,
  "nbformat_minor": 0,
  "metadata": {
    "colab": {
      "name": "Lista de Exercícios 01.ipynb",
      "provenance": [],
      "authorship_tag": "ABX9TyMrzmL3qSFf+ObJeK+G1nd+",
      "include_colab_link": true
    },
    "kernelspec": {
      "name": "python3",
      "display_name": "Python 3"
    },
    "language_info": {
      "name": "python"
    }
  },
  "cells": [
    {
      "cell_type": "markdown",
      "metadata": {
        "id": "view-in-github",
        "colab_type": "text"
      },
      "source": [
        "<a href=\"https://colab.research.google.com/github/douglascdsantos/unesp_icc_ii/blob/main/notebooks/Lista_de_Exerc%C3%ADcios_01.ipynb\" target=\"_parent\"><img src=\"https://colab.research.google.com/assets/colab-badge.svg\" alt=\"Open In Colab\"/></a>"
      ]
    },
    {
      "cell_type": "markdown",
      "metadata": {
        "id": "3nBAHEL1heCG"
      },
      "source": [
        "# Exercício 1\n",
        "Escreva um programa em Python que receba um número inteiro que representa o tempo decorrido para a realização de uma tarefa em segundos (entrada de dados) e transforma esse tempo para dias, horas, minutos e segundos (processamento) e mostra a saída no formato: a dias, b horas, c minutos e d segundos (saída de dados). Por exemplo, se a entrada for 150347 segundos, a saída deve ser: 1 dia, 17 horas, 45 minutos e 47 segundos."
      ]
    },
    {
      "cell_type": "code",
      "metadata": {
        "colab": {
          "base_uri": "https://localhost:8080/"
        },
        "id": "3X_OOeUBhANp",
        "outputId": "fb60d54e-d589-4680-96c3-8954ff9b2058"
      },
      "source": [
        "seg_dia = 86400\n",
        "seg_hora = 3600\n",
        "seg_min = 60\n",
        "\n",
        "num = int(input('Insira um número inteiro que representa o tempo decorrido para a realização de uma tarefa em segundos: '))\n",
        "\n",
        "a = num // seg_dia\n",
        "a_res_div = num % seg_dia\n",
        "\n",
        "b = a_res_div // seg_hora\n",
        "b_res_div = a_res_div % seg_hora\n",
        "\n",
        "c = b_res_div // seg_min\n",
        "d = b_res_div % seg_min\n",
        "\n",
        "print(f'O valor inserido representa {a} dia(as), {b} hora(as), {c} minuto(os) e {d} segundo(os).')"
      ],
      "execution_count": 97,
      "outputs": [
        {
          "output_type": "stream",
          "name": "stdout",
          "text": [
            "Insira um número inteiro que representa o tempo decorrido para a realização de uma tarefa em segundos: 150347\n",
            "O valor inserido representa 1 dia(as), 17 hora(as), 45 minuto(os) e 47 segundo(os).\n"
          ]
        }
      ]
    },
    {
      "cell_type": "markdown",
      "metadata": {
        "id": "4uUP1b13ppSI"
      },
      "source": [
        "# Exercício 2\n",
        "Escrever um programa que leia quatro números inteiros e imprima o maior e o menor valor.\n",
        "Não utilize as funções min e max."
      ]
    },
    {
      "cell_type": "code",
      "metadata": {
        "id": "ZzY6IvzSpxGm",
        "outputId": "a6baeedd-7ce3-451a-c67a-24b11d2b5894",
        "colab": {
          "base_uri": "https://localhost:8080/"
        }
      },
      "source": [
        "iniciar = 'S'\n",
        "while iniciar == 'S':\n",
        "  lista_de_numeros = list()\n",
        "  # preenchendo a lista\n",
        "  quantidade_de_entradas = 4\n",
        "  print(f'\\nInsira {quantidade_de_entradas} números inteiros, então, veremos qual é o maior e o menor:\\n')\n",
        "  for i in range(quantidade_de_entradas):\n",
        "    num_entrada = int(input(f'insira o {i+1}º número: '))\n",
        "    lista_de_numeros.append(num_entrada)\n",
        "  # mostrando os valores inseridos\n",
        "  print( f'\\nForam inseridos os valores: {lista_de_numeros}')\n",
        "  # definindo o primeiro valor como maior e menor\n",
        "  num_maior = lista_de_numeros[0]\n",
        "  num_menor = lista_de_numeros[0]\n",
        "  # laço for i para verifica todas as entradas da lista\n",
        "  for i in range(len(lista_de_numeros)):\n",
        "    # laço for j para comparar cada entrada i com todas as entradas da lista\n",
        "    for j in range(len(lista_de_numeros)):\n",
        "      # se o numero da posição i for o maior da lista e for maior que o maior número até o momento esse valor será o maior valor\n",
        "      if lista_de_numeros[i] > lista_de_numeros[j] and lista_de_numeros[i] > num_maior:\n",
        "        num_maior = lista_de_numeros[i]\n",
        "      # a mesma ideia do if anterior, mas dessa vez buscando o menor valor\n",
        "      if lista_de_numeros[i] < lista_de_numeros[j] and lista_de_numeros[i] < num_menor:\n",
        "        num_menor = lista_de_numeros[i]\n",
        "  # mostrando os extremos\n",
        "  print(f'\\nO maior número inserido foi {num_maior} e o menor foi {num_menor}')\n",
        "  iniciar = input(f'\\nDeseja testar outros {quantidade_de_entradas} números? (S/N) ')\n",
        "print('\\nEncerrado!\\n')"
      ],
      "execution_count": 98,
      "outputs": [
        {
          "output_type": "stream",
          "name": "stdout",
          "text": [
            "\n",
            "Insira 4 números inteiros, então, veremos qual é o maior e o menor:\n",
            "\n",
            "insira o 1º número: 1\n",
            "insira o 2º número: 5\n",
            "insira o 3º número: 5\n",
            "insira o 4º número: -1\n",
            "\n",
            "Foram inseridos os valores: [1, 5, 5, -1]\n",
            "\n",
            "O maior número inserido foi 5 e o menor foi -1\n",
            "\n",
            "Deseja testar outros 4 números? (S/N) n\n",
            "\n",
            "Encerrado!\n",
            "\n"
          ]
        }
      ]
    },
    {
      "cell_type": "markdown",
      "metadata": {
        "id": "-zEyI4DW0vGr"
      },
      "source": [
        "#Exercício 3\n",
        "Escreva um programa que calcula as raízes de uma equação do segundo grau. O usuário deve digitar os valores de a, b, e c da equação ax2 + bx + c, e imprimir o resultado na saída da seguinte maneira:\n",
        "- Quando não houver raízes reais imprima: “Esta equação não possui raízes reais.”;\n",
        "- Quando houver apenas uma raiz real imprima: “A raiz desta equação é X.”, em que X é o\n",
        "valor da raiz;\n",
        "- Quando houver duas raízes reais imprima: “as raízes da equação são X e Y”, em que X e\n",
        "Y são os valores das raízes."
      ]
    },
    {
      "cell_type": "code",
      "metadata": {
        "id": "3VndgGLqgUCM",
        "outputId": "e921b1fb-cc93-4d09-c167-c8a9b691a78f",
        "colab": {
          "base_uri": "https://localhost:8080/"
        }
      },
      "source": [
        "# recebendo os parametros da equação\n",
        "print('Dada a equação ax^2 + bx + c, insira:')\n",
        "a = float(input('\\tO valor do parametro a: ').replace(',','.'))\n",
        "b = float(input('\\tO valor do parametro b: ').replace(',','.'))\n",
        "c = float(input('\\tO valor do parametro c: ').replace(',','.'))\n",
        "print(f'\\nOs parametros a, b e c inseridos foram {a:0.2f}x^2 + ({b:0.2f})x + ({c:0.2f}), respectivamente')\n",
        "# calculo de delta\n",
        "delta = b**2 - (4 * a * c)\n",
        "# calculo das raízes\n",
        "x_1 = (-b + delta**(1/2))/(2*a)\n",
        "x_2 = (-b - delta**(1/2))/(2*a)\n",
        "# retornando se possui raízes reais e quais são as raízes\n",
        "if delta < 0:\n",
        "  print('\\nEsta equação não possui raízes reais.')\n",
        "elif delta == 0:\n",
        "  print(f'\\nA raiz desta equação é {x_1:0.2f}.')\n",
        "else:\n",
        "  print(f'\\nAs raízes da equação são {x_1:0.2f} e {x_2:0.2f}')"
      ],
      "execution_count": 99,
      "outputs": [
        {
          "output_type": "stream",
          "name": "stdout",
          "text": [
            "Dada a equação ax^2 + bx + c, insira:\n",
            "\tO valor do parametro a: 1\n",
            "\tO valor do parametro b: -5\n",
            "\tO valor do parametro c: 6\n",
            "\n",
            "Os parametros a, b e c inseridos foram 1.00x^2 + (-5.00)x + (6.00), respectivamente\n",
            "\n",
            "As raízes da equação são 3.00 e 2.00\n"
          ]
        }
      ]
    },
    {
      "cell_type": "markdown",
      "metadata": {
        "id": "tpdShY_B1JbD"
      },
      "source": [
        "# Exercício 4\n",
        "Crie um jogo em Python que consistem em tentar adivinhar o número oculto. Para isso, o programa sorteará aleatoriamente um número inteiro entre 1 e 1000, que não é exibido ao jogador. O jogador deve tentar acertar o número sorteado. Se ele errar, o programa deve mostrar uma mensagem dizendo que ele errou e informá-lo se o número sorteado (oculto) é maior ou menor que o número que ele digitou. Esse processo deve se repetir até que o jogador acerte o número. Ao acertar o número sorteado, o programa deverá mostrar a mensagem informando que ele acertou e quantas tentativas foram necessárias para que ele acertasse o número. Para gerar um número (pseudo) aleatório, importe o pacote random e use a função randint, como mostrado a seguir. Observe que a variável x armazena o número inteiro gerado aleatoriamente e os valores 1 e 1000 representam o menor e o maior valor aleatório possível que será gerado.\n",
        "\n",
        "`import random`\n",
        "\n",
        "`x = random . randint (1 ,1000)`"
      ]
    },
    {
      "cell_type": "code",
      "metadata": {
        "id": "RLpNl_iFomY4",
        "outputId": "022e5999-571f-4807-978c-21f27f76d79a",
        "colab": {
          "base_uri": "https://localhost:8080/"
        }
      },
      "source": [
        "import random\n",
        "x = random.randint(1,1000)\n",
        "contador = 0\n",
        "print('Jogo da advinhação, descubra o valor secreto entre 1 e 1000.\\n')\n",
        "resposta = 0\n",
        "while resposta != x:\n",
        "  resposta = int(input('\\tValor secreto: '))\n",
        "  contador = contador + 1\n",
        "  if resposta == x:\n",
        "    print(f'\\nParabéns, você acertou na {contador}º tentativa!')\n",
        "  elif resposta > x:\n",
        "    print(f'\\nO número secreto está abaixo de {resposta}')\n",
        "  else:\n",
        "    print(f'\\nO número secreto está acima de {resposta}')"
      ],
      "execution_count": 100,
      "outputs": [
        {
          "output_type": "stream",
          "name": "stdout",
          "text": [
            "Jogo da advinhação, descubra o valor secreto entre 1 e 1000.\n",
            "\n",
            "\tValor secreto: 500\n",
            "\n",
            "O número secreto está acima de 500\n",
            "\tValor secreto: 750\n",
            "\n",
            "O número secreto está acima de 750\n",
            "\tValor secreto: 900\n",
            "\n",
            "O número secreto está abaixo de 900\n",
            "\tValor secreto: 800\n",
            "\n",
            "O número secreto está acima de 800\n",
            "\tValor secreto: 850\n",
            "\n",
            "O número secreto está abaixo de 850\n",
            "\tValor secreto: 825\n",
            "\n",
            "O número secreto está abaixo de 825\n",
            "\tValor secreto: 815\n",
            "\n",
            "O número secreto está acima de 815\n",
            "\tValor secreto: 820\n",
            "\n",
            "O número secreto está acima de 820\n",
            "\tValor secreto: 823\n",
            "\n",
            "O número secreto está abaixo de 823\n",
            "\tValor secreto: 821\n",
            "\n",
            "O número secreto está acima de 821\n",
            "\tValor secreto: 822\n",
            "\n",
            "Parabéns, você acertou na 11º tentativa!\n"
          ]
        }
      ]
    },
    {
      "cell_type": "markdown",
      "metadata": {
        "id": "A34oOL9v4jk8"
      },
      "source": [
        "# Exercício 5\n",
        "Escreva um programa que verifique se um número inteiro, fornecido pelo usuário, é um número primo ou não. Para isso, calcule o resto da divisão do número digitado por 2 e depois por todos os números ímpares até o número lido. Se o resto de uma dessas divisões for igual a zero, o número não é primo. Observe que 0 e 1 não são primos e que 2 é o único número primo par."
      ]
    },
    {
      "cell_type": "code",
      "metadata": {
        "id": "embMUErY1rYs",
        "outputId": "361304c2-50d8-4482-b801-972df7753f88",
        "colab": {
          "base_uri": "https://localhost:8080/"
        }
      },
      "source": [
        "numero_teste = input('Entre com um número inteiro: ')\n",
        "if type(int(numero_teste)) != int:\n",
        "  print('O valor não é um número inteiro')\n",
        "else:\n",
        "  print('O valor é um número inteiro')\n",
        "numero_teste = int(numero_teste)\n",
        "soma = list()\n",
        "for num_impar in range(3, numero_teste + 1, 2):\n",
        "  soma.append(numero_teste % num_impar)\n",
        "if 0 in soma or numero_teste == 2:\n",
        "  print(f'O número {numero_teste} é primo.')\n",
        "else:\n",
        "  print(f'O número {numero_teste} não é primo.')"
      ],
      "execution_count": 133,
      "outputs": [
        {
          "output_type": "stream",
          "name": "stdout",
          "text": [
            "Entre com um número inteiro: 997\n",
            "O valor é um número inteiro\n",
            "O número 997 é primo.\n"
          ]
        }
      ]
    },
    {
      "cell_type": "markdown",
      "metadata": {
        "id": "Cs8HvbmJNOEi"
      },
      "source": [
        "# Exercício 6\n",
        "Escreva um programa que lê uma sequência de números inteiros e armazena-os em uma lista. Depois de armazenar todos os elementos, encontre o maior e o menor valor dessa lista e imprime-os. Para esse propósito, utilize uma estrutura de repetição for. Não utilize funções prontas, como min e max. Por exemplo, se o usuário digitar a lista seq=[5,-9,3,-15,-5,1,18,12], o programa deverá imprimir: Maior valor: 18 –- Menor valor: -15."
      ]
    },
    {
      "cell_type": "code",
      "metadata": {
        "id": "0OVuJsQGIL5z",
        "outputId": "67ca39f1-fa3d-4343-fd41-6d861b663150",
        "colab": {
          "base_uri": "https://localhost:8080/"
        }
      },
      "source": [
        "iniciar = 'S'\n",
        "while iniciar == 'S':\n",
        "  lista_de_numeros = input(f'\\nInsira uma lista de números inteiros separados por virgula, então, veremos qual é o maior e o menor:\\n').split(',')\n",
        "  # mostrando os valores inseridos\n",
        "  print( f'\\nForam inseridos os valores: {lista_de_numeros}')\n",
        "  # definindo o primeiro valor como maior e menor\n",
        "  num_maior = lista_de_numeros[0]\n",
        "  num_menor = lista_de_numeros[0]\n",
        "  # laço for i para verifica todas as entradas da lista\n",
        "  for i in range(len(lista_de_numeros)):\n",
        "    # laço for j para comparar cada entrada i com todas as entradas da lista\n",
        "    for j in range(len(lista_de_numeros)):\n",
        "      # se o numero da posição i for o maior da lista e for maior que o maior número até o momento esse valor será o maior valor\n",
        "      if lista_de_numeros[i] > lista_de_numeros[j] and lista_de_numeros[i] > num_maior:\n",
        "        num_maior = lista_de_numeros[i]\n",
        "      # a mesma ideia do if anterior, mas dessa vez buscando o menor valor\n",
        "      if lista_de_numeros[i] < lista_de_numeros[j] and lista_de_numeros[i] < num_menor:\n",
        "        num_menor = lista_de_numeros[i]\n",
        "  # mostrando os extremos\n",
        "  print(f'\\nMaior valor: {num_maior} –- Menor valor: {num_menor}')\n",
        "  iniciar = input(f'\\nDeseja testar outra sequência de números? (S/N) ')\n",
        "print('\\nEncerrado!\\n')"
      ],
      "execution_count": 135,
      "outputs": [
        {
          "output_type": "stream",
          "name": "stdout",
          "text": [
            "\n",
            "Insira uma lista de números inteiros separados por virgula, então, veremos qual é o maior e o menor:\n",
            "-5,9,85,159,-256,852,9658,-96589,965326\n",
            "\n",
            "Foram inseridos os valores: ['-5', '9', '85', '159', '-256', '852', '9658', '-96589', '965326']\n",
            "\n",
            "Maior valor: 9658 –- Menor valor: -256\n",
            "\n",
            "Deseja testar outros 4 números? (S/N) n\n",
            "\n",
            "Encerrado!\n",
            "\n"
          ]
        }
      ]
    }
  ]
}