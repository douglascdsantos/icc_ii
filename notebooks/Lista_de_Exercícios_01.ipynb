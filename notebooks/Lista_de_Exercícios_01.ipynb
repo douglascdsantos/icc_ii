{
  "nbformat": 4,
  "nbformat_minor": 0,
  "metadata": {
    "colab": {
      "name": "Lista de Exercícios 01.ipynb",
      "provenance": [],
      "authorship_tag": "ABX9TyN5+o4LzDV5lWcvWq+vJFLN",
      "include_colab_link": true
    },
    "kernelspec": {
      "name": "python3",
      "display_name": "Python 3"
    },
    "language_info": {
      "name": "python"
    }
  },
  "cells": [
    {
      "cell_type": "markdown",
      "metadata": {
        "id": "view-in-github",
        "colab_type": "text"
      },
      "source": [
        "<a href=\"https://colab.research.google.com/github/douglascdsantos/unesp_icc_ii/blob/main/notebooks/Lista_de_Exerc%C3%ADcios_01.ipynb\" target=\"_parent\"><img src=\"https://colab.research.google.com/assets/colab-badge.svg\" alt=\"Open In Colab\"/></a>"
      ]
    },
    {
      "cell_type": "markdown",
      "metadata": {
        "id": "3nBAHEL1heCG"
      },
      "source": [
        "# Exercício 1\n",
        "Escreva um programa em Python que receba um número inteiro que representa o tempo decorrido para a realização de uma tarefa em segundos (entrada de dados) e transforma esse tempo para dias, horas, minutos e segundos (processamento) e mostra a saída no formato: a dias, b horas, c minutos e d segundos (saída de dados). Por exemplo, se a entrada for 150347 segundos, a saída deve ser: 1 dia, 17 horas, 45 minutos e 47 segundos."
      ]
    },
    {
      "cell_type": "code",
      "metadata": {
        "colab": {
          "base_uri": "https://localhost:8080/"
        },
        "id": "3X_OOeUBhANp",
        "outputId": "10286fcc-62c0-46f9-92b6-bc8538bd5b13"
      },
      "source": [
        "seg_dia = 86400\n",
        "seg_hora = 3600\n",
        "seg_min = 60\n",
        "\n",
        "num = int(input('Insira um número inteiro que representa o tempo decorrido para a realização de uma tarefa em segundos: '))\n",
        "\n",
        "a = num // seg_dia\n",
        "a_res_div = num % seg_dia\n",
        "\n",
        "b = a_res_div // seg_hora\n",
        "b_res_div = a_res_div % seg_hora\n",
        "\n",
        "c = b_res_div // seg_min\n",
        "d = b_res_div % seg_min\n",
        "\n",
        "print(f'O valor inserido representa {a} dia(as), {b} hora(as), {c} minuto(os) e {d} segundo(os).')"
      ],
      "execution_count": 57,
      "outputs": [
        {
          "output_type": "stream",
          "name": "stdout",
          "text": [
            "Insira um número inteiro que representa o tempo decorrido para a realização de uma tarefa em segundos: 150347\n",
            "O valor inserido representa 1 dia(as), 17 hora(as), 45 minuto(os) e 47 segundo(os).\n"
          ]
        }
      ]
    },
    {
      "cell_type": "markdown",
      "metadata": {
        "id": "4uUP1b13ppSI"
      },
      "source": [
        "# Exercício 2\n",
        "Escrever um programa que leia quatro números inteiros e imprima o maior e o menor valor.\n",
        "Não utilize as funções min e max."
      ]
    },
    {
      "cell_type": "code",
      "metadata": {
        "id": "ZzY6IvzSpxGm"
      },
      "source": [
        ""
      ],
      "execution_count": null,
      "outputs": []
    }
  ]
}