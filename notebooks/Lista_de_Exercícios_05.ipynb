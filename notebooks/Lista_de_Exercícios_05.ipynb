{
  "nbformat": 4,
  "nbformat_minor": 0,
  "metadata": {
    "colab": {
      "name": "icc2_lista03.ipynb",
      "provenance": [],
      "toc_visible": true,
      "authorship_tag": "ABX9TyPoZgtZ9uoQccq3Fb4w0IJq",
      "include_colab_link": true
    },
    "kernelspec": {
      "name": "python3",
      "display_name": "Python 3"
    },
    "language_info": {
      "name": "python"
    }
  },
  "cells": [
    {
      "cell_type": "markdown",
      "metadata": {
        "id": "view-in-github",
        "colab_type": "text"
      },
      "source": [
        "<a href=\"https://colab.research.google.com/github/douglascdsantos/unesp_icc_ii/blob/main/notebooks/Lista_de_Exerc%C3%ADcios_05.ipynb\" target=\"_parent\"><img src=\"https://colab.research.google.com/assets/colab-badge.svg\" alt=\"Open In Colab\"/></a>"
      ]
    },
    {
      "cell_type": "markdown",
      "metadata": {
        "id": "S4bB3M0Fw-8o"
      },
      "source": [
        "#Introdução à Ciência da Computação II\n",
        "Discente: Douglas Camargo dos Santos"
      ]
    },
    {
      "cell_type": "markdown",
      "metadata": {
        "id": "vBKu_2hkwoiA"
      },
      "source": [
        "#Lista de Exercícios 05 Funções: verificação de tipos, o tipo None e recursão"
      ]
    },
    {
      "cell_type": "markdown",
      "metadata": {
        "id": "LL83pwVIekeL"
      },
      "source": [
        "## Exercício 01 ()\n",
        "<center><img width=\"70%\" src=\"https://cdn.loom.com/images/originals/b350b98b679e46fc9ddd0d329da9b7c2.jpg?Expires=1639188754&Policy=eyJTdGF0ZW1lbnQiOlt7IlJlc291cmNlIjoiaHR0cHM6Ly9jZG4ubG9vbS5jb20vaW1hZ2VzL29yaWdpbmFscy9iMzUwYjk4YjY3OWU0NmZjOWRkZDBkMzI5ZGE5YjdjMi5qcGciLCJDb25kaXRpb24iOnsiRGF0ZUxlc3NUaGFuIjp7IkFXUzpFcG9jaFRpbWUiOjE2MzkxODg3NTR9fX1dfQ__&Signature=RMa2Z4t30h2TxbbsxtGgGmjOtZaHGbafreQ0ihozmLCinh4LEGODQItdIbtPGNlyKxkVlB69l6v8U3-yYZ3JkjKbGvJpkv8eNpGb3YMZVtVf4GOBu5Rtc0dHpSJjImfMgiEOLlhgnrmXaF1dB2OHgHFpZ96m0jrPfR6UOHZg10mQCv49C8lt88kTyVtrG91OG2CtoNQYZRxA9BH47dNtSoJJsS1bamBR8k638FyCmO1ln5WhmDwh5fuDUSUmYSom2RQFpawGA2NNSD4NCAfJQ6EgFnmzokax5QLz~8wYNRvr7pPBTeRxJ-YnE2R7kyNk47Je7YU5iQ67bi1-q9eEOw__&Key-Pair-Id=APKAJQIC5BGSW7XXK7FQ\"></center>"
      ]
    },
    {
      "cell_type": "code",
      "source": [
        ""
      ],
      "metadata": {
        "id": "BF-El6t9HVU5"
      },
      "execution_count": null,
      "outputs": []
    }
  ]
}