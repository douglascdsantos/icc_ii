{
  "nbformat": 4,
  "nbformat_minor": 0,
  "metadata": {
    "colab": {
      "name": "icc2_lista03.ipynb",
      "provenance": [],
      "toc_visible": true,
      "authorship_tag": "ABX9TyNsdgfZ5Oybd6kRgk/883DP",
      "include_colab_link": true
    },
    "kernelspec": {
      "name": "python3",
      "display_name": "Python 3"
    },
    "language_info": {
      "name": "python"
    }
  },
  "cells": [
    {
      "cell_type": "markdown",
      "metadata": {
        "id": "view-in-github",
        "colab_type": "text"
      },
      "source": [
        "<a href=\"https://colab.research.google.com/github/douglascdsantos/unesp_icc_ii/blob/main/notebooks/Lista_de_Exerc%C3%ADcios_05.ipynb\" target=\"_parent\"><img src=\"https://colab.research.google.com/assets/colab-badge.svg\" alt=\"Open In Colab\"/></a>"
      ]
    },
    {
      "cell_type": "markdown",
      "metadata": {
        "id": "S4bB3M0Fw-8o"
      },
      "source": [
        "#Introdução à Ciência da Computação II\n",
        "Discente: Douglas Camargo dos Santos"
      ]
    },
    {
      "cell_type": "markdown",
      "metadata": {
        "id": "vBKu_2hkwoiA"
      },
      "source": [
        "#Lista de Exercícios 05 Funções: verificação de tipos, o tipo None e recursão"
      ]
    },
    {
      "cell_type": "markdown",
      "metadata": {
        "id": "LL83pwVIekeL"
      },
      "source": [
        "## Exercício 01 (b)\n",
        "<center><img width=\"70%\" src=\"https://cdn.loom.com/images/originals/b350b98b679e46fc9ddd0d329da9b7c2.jpg?Expires=1639188754&Policy=eyJTdGF0ZW1lbnQiOlt7IlJlc291cmNlIjoiaHR0cHM6Ly9jZG4ubG9vbS5jb20vaW1hZ2VzL29yaWdpbmFscy9iMzUwYjk4YjY3OWU0NmZjOWRkZDBkMzI5ZGE5YjdjMi5qcGciLCJDb25kaXRpb24iOnsiRGF0ZUxlc3NUaGFuIjp7IkFXUzpFcG9jaFRpbWUiOjE2MzkxODg3NTR9fX1dfQ__&Signature=RMa2Z4t30h2TxbbsxtGgGmjOtZaHGbafreQ0ihozmLCinh4LEGODQItdIbtPGNlyKxkVlB69l6v8U3-yYZ3JkjKbGvJpkv8eNpGb3YMZVtVf4GOBu5Rtc0dHpSJjImfMgiEOLlhgnrmXaF1dB2OHgHFpZ96m0jrPfR6UOHZg10mQCv49C8lt88kTyVtrG91OG2CtoNQYZRxA9BH47dNtSoJJsS1bamBR8k638FyCmO1ln5WhmDwh5fuDUSUmYSom2RQFpawGA2NNSD4NCAfJQ6EgFnmzokax5QLz~8wYNRvr7pPBTeRxJ-YnE2R7kyNk47Je7YU5iQ67bi1-q9eEOw__&Key-Pair-Id=APKAJQIC5BGSW7XXK7FQ\"></center>"
      ]
    },
    {
      "cell_type": "markdown",
      "metadata": {
        "id": "kBSMUPExfm30"
      },
      "source": [
        "## Exercício 02 (e)\n",
        "<center><img width=\"70%\" src=\"https://cdn.loom.com/images/originals/30f36b43aff24b728b45df5e79c5a3f4.jpg?Expires=1639362856&Policy=eyJTdGF0ZW1lbnQiOlt7IlJlc291cmNlIjoiaHR0cHM6Ly9jZG4ubG9vbS5jb20vaW1hZ2VzL29yaWdpbmFscy8zMGYzNmI0M2FmZjI0YjcyOGI0NWRmNWU3OWM1YTNmNC5qcGciLCJDb25kaXRpb24iOnsiRGF0ZUxlc3NUaGFuIjp7IkFXUzpFcG9jaFRpbWUiOjE2MzkzNjI4NTZ9fX1dfQ__&Signature=DI4CXDcbv-iZJ08iRH3wdXdTh6cO1x3XnwEJMOBLM1qeBNpLNA0f82LFjtad6MugdyU-owv2N23atHxvoXok~XPt4ZDaYDzOlDhaBvIOaOvOQSD-a9LPN0OPE057fVB9Z~HYzMhtcBrIavrKCnVomiT8Bc1UkacLe7gBrYSbMk8fttLyZ0d6g25WvNnFCNZchMRQ4ufsH4H89e4umTw5Gzjkc5MG26K-KA9utKKMl6nnem-LcUq1MHGD7X~LhZNANUPmAw-qsEha9DG~42snKBARPziDg6ODaAIavwWwIWfy1yb9uBYN8a4xT5-60r0bqQGdccuyD3JYBnDxOLCahA__&Key-Pair-Id=APKAJQIC5BGSW7XXK7FQ\"></center>"
      ]
    },
    {
      "cell_type": "code",
      "source": [
        "def fatorial (n):\n",
        "  if n <= 1:\n",
        "    return n\n",
        "  else:\n",
        "    return n * fatorial(n - 1)\n",
        "\n",
        "fatorial(5)"
      ],
      "metadata": {
        "colab": {
          "base_uri": "https://localhost:8080/"
        },
        "id": "ziClxL5QfgFt",
        "outputId": "f7d14cb5-bf75-4579-a586-14333fd31a61"
      },
      "execution_count": 1,
      "outputs": [
        {
          "output_type": "execute_result",
          "data": {
            "text/plain": [
              "120"
            ]
          },
          "metadata": {},
          "execution_count": 1
        }
      ]
    },
    {
      "cell_type": "markdown",
      "metadata": {
        "id": "73_xUYR2gIHt"
      },
      "source": [
        "## Exercício 03 (d)\n",
        "<center><img width=\"70%\" src=\"https://cdn.loom.com/images/originals/2c70f602b0bc42ada4f849193cb762d1.jpg?Expires=1639363058&Policy=eyJTdGF0ZW1lbnQiOlt7IlJlc291cmNlIjoiaHR0cHM6Ly9jZG4ubG9vbS5jb20vaW1hZ2VzL29yaWdpbmFscy8yYzcwZjYwMmIwYmM0MmFkYTRmODQ5MTkzY2I3NjJkMS5qcGciLCJDb25kaXRpb24iOnsiRGF0ZUxlc3NUaGFuIjp7IkFXUzpFcG9jaFRpbWUiOjE2MzkzNjMwNTh9fX1dfQ__&Signature=uvrfUKFA8ILZi63PEdL9hMWYW-0XBtm2f4dpSjtvaJO3fuzxe5Ol1~uskmboUoOsnkjnpBl1ZOiFPFEgzFAA6okOEGOJQLeLGF6s12pVqXvlaaL8JT~sVQu-l5T5NEgIYFwt1aXNEmQujpNWYKkTaPhvx0gbH5pRHPAj-Y8e8gbWZZgTC~VJ3BoXOsISPcZInTJ9R48vfg6Ky--N84II-n64bWVNTazMsrghDQvY0Zc8pckVT6rbM4E3OABtL0QNPv-EsGSoSA88MIcfrqPp-t14Xx8WlrEic8r2A7NbHoJxtWOcQhFTAhyQhRm~HsNFpGnSjzNdsE2nrv76GneCow__&Key-Pair-Id=APKAJQIC5BGSW7XXK7FQ\"></center>"
      ]
    },
    {
      "cell_type": "code",
      "source": [
        "def fibo(n):\n",
        "  if(n < 2):\n",
        "    return n\n",
        "  else:\n",
        "    return fibo(n - 1) + fibo(n - 2)\n",
        "\n",
        "fibo(10)"
      ],
      "metadata": {
        "colab": {
          "base_uri": "https://localhost:8080/"
        },
        "id": "zlHrcMGQf4sk",
        "outputId": "856dd1d4-57f4-4f0a-88fe-fae0b3c448fe"
      },
      "execution_count": 4,
      "outputs": [
        {
          "output_type": "execute_result",
          "data": {
            "text/plain": [
              "55"
            ]
          },
          "metadata": {},
          "execution_count": 4
        }
      ]
    },
    {
      "cell_type": "markdown",
      "metadata": {
        "id": "OF6tDQymiH-y"
      },
      "source": [
        "## Exercício 04 ()\n",
        "<center><img width=\"70%\" src=\"https://cdn.loom.com/images/originals/7639208c544e4f8588ef9d346dd997bb.jpg?Expires=1639363589&Policy=eyJTdGF0ZW1lbnQiOlt7IlJlc291cmNlIjoiaHR0cHM6Ly9jZG4ubG9vbS5jb20vaW1hZ2VzL29yaWdpbmFscy83NjM5MjA4YzU0NGU0Zjg1ODhlZjlkMzQ2ZGQ5OTdiYi5qcGciLCJDb25kaXRpb24iOnsiRGF0ZUxlc3NUaGFuIjp7IkFXUzpFcG9jaFRpbWUiOjE2MzkzNjM1ODl9fX1dfQ__&Signature=OdI4OzU3YmJEVOO3N-SKUjd7ipZxWA876J3cIDpr-FDXXaW1PJIXV0FYn5JxhIG-LukxrtE7hmtqvd1lN8-KfeTroPcHzcSv2SeNo7aBseqyO~yWp8o9-Dy3rLhmNogqna6tixdcqpHW0VfBY0xlhWGY59JuIQlxFGyQQ8l6Ey9hCEqfM82ZyqjnpNKwSiUVSnWEceaNINwQgSMFkZBtWfj0rRXPmd5ustK0o4wj~aIH-2jsJTHR-dxvBmk-ZHZ2uwQR0tCl7pKKa8w68urDZYBa0s4e1NpvAdVcnHkyRCwDTmjmghPq8wkHO0HaDhiSPyUV3o~mTG5li9n5-5rDAg__&Key-Pair-Id=APKAJQIC5BGSW7XXK7FQ\"></center>"
      ]
    },
    {
      "cell_type": "code",
      "source": [
        ""
      ],
      "metadata": {
        "id": "gFb_FkGUhg0V"
      },
      "execution_count": null,
      "outputs": []
    }
  ]
}