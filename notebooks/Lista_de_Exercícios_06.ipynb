{
  "nbformat": 4,
  "nbformat_minor": 0,
  "metadata": {
    "colab": {
      "name": "Lista_de_Exercícios_06.ipynb",
      "provenance": [],
      "authorship_tag": "ABX9TyP4EAhBLSdxrNDifk4prEoG",
      "include_colab_link": true
    },
    "kernelspec": {
      "name": "python3",
      "display_name": "Python 3"
    },
    "language_info": {
      "name": "python"
    }
  },
  "cells": [
    {
      "cell_type": "markdown",
      "metadata": {
        "id": "view-in-github",
        "colab_type": "text"
      },
      "source": [
        "<a href=\"https://colab.research.google.com/github/douglascdsantos/unesp_icc_ii/blob/main/notebooks/Lista_de_Exerc%C3%ADcios_06.ipynb\" target=\"_parent\"><img src=\"https://colab.research.google.com/assets/colab-badge.svg\" alt=\"Open In Colab\"/></a>"
      ]
    },
    {
      "cell_type": "markdown",
      "source": [
        "# Exercício 05"
      ],
      "metadata": {
        "id": "DfwntHDgpXft"
      }
    },
    {
      "cell_type": "code",
      "source": [
        "def contagem_texto(arquivo_nome,palavra):\n",
        "  # lista que receberá todas palavras\n",
        "  lista = []\n",
        "  # abrindo, lendo e fechando o arquivo\n",
        "  with open(f'/content/{arquivo_nome}', 'r') as f:\n",
        "    # laço para ler todas as linhas\n",
        "    for linha in f.readlines():\n",
        "      # adicionando cada linha splitada na lista sem criar sublistas\n",
        "      lista = lista + linha.split()\n",
        "  # retornando a contagem de quantas vezes aparece a palavra\n",
        "  return lista.count(palavra)\n",
        "\n",
        "contagem_texto('The-Adventures-of-Sherlock-Holmes-by-Arthur-Conan-Doyle.txt','Sherlock')"
      ],
      "metadata": {
        "colab": {
          "base_uri": "https://localhost:8080/"
        },
        "id": "aZrD74bV77fg",
        "outputId": "2b723e1d-fe3c-4e34-cc87-0fb8d8a72faa"
      },
      "execution_count": 87,
      "outputs": [
        {
          "output_type": "execute_result",
          "data": {
            "text/plain": [
              "97"
            ]
          },
          "metadata": {},
          "execution_count": 87
        }
      ]
    },
    {
      "cell_type": "markdown",
      "source": [
        "# Exercício 06"
      ],
      "metadata": {
        "id": "ljoyBmutpbP9"
      }
    },
    {
      "cell_type": "code",
      "execution_count": 89,
      "metadata": {
        "colab": {
          "base_uri": "https://localhost:8080/"
        },
        "id": "A3mVGFMK4NNg",
        "outputId": "66a6d297-85f6-4294-e3ae-24f8d9d0372d"
      },
      "outputs": [
        {
          "name": "stdout",
          "output_type": "stream",
          "text": [
            "Sobre o aluno 1 , insira a informação:\n",
            "\tnome: Douglas Camargo\n",
            "\tcidade de origem: Itapeva\n",
            "\tidade: 26\n",
            "\taltura: 1.75\n",
            "\tano de ingresso na universidade: 2017\n",
            "\n",
            "Deseja inserir mais algum? (s/n): s\n",
            "Sobre o aluno 2 , insira a informação:\n",
            "\tnome: João da Silva\n",
            "\tcidade de origem: São Paulo\n",
            "\tidade: 21\n",
            "\taltura: 1.76\n",
            "\tano de ingresso na universidade: 2020\n",
            "\n",
            "Deseja inserir mais algum? (s/n): s\n",
            "Sobre o aluno 3 , insira a informação:\n",
            "\tnome: Antonio Cardoso\n",
            "\tcidade de origem: Jundiaí\n",
            "\tidade: 20\n",
            "\taltura: 1.68\n",
            "\tano de ingresso na universidade: 2019\n",
            "\n",
            "Deseja inserir mais algum? (s/n): s\n",
            "Sobre o aluno 4 , insira a informação:\n",
            "\tnome: Maria Antonieta\n",
            "\tcidade de origem: Bauru\n",
            "\tidade: 19\n",
            "\taltura: 1.72\n",
            "\tano de ingresso na universidade: 2020\n",
            "\n",
            "Deseja inserir mais algum? (s/n): n\n"
          ]
        }
      ],
      "source": [
        "continuar = 's'\n",
        "contador = 1\n",
        "alunos = []\n",
        "while continuar == 's':\n",
        "  print(f'Sobre o aluno {contador} , insira a informação:')\n",
        "  aluno = ([input(f'\\t{dado}: ') for dado in ['nome', 'cidade de origem', 'idade', 'altura', 'ano de ingresso na universidade']])\n",
        "  contador += 1\n",
        "  alunos.append(aluno)\n",
        "  continuar = input('\\nDeseja inserir mais algum? (s/n): ')\n",
        "  with open('exercicio-06.txt', 'a') as f:\n",
        "    f.writelines(f'{aluno[0]}, {aluno[1]}, {aluno[2]}, {aluno[3]}, {aluno[4]}\\n')"
      ]
    },
    {
      "cell_type": "markdown",
      "source": [
        "# Exercício 07"
      ],
      "metadata": {
        "id": "0YQJ7VjApe1U"
      }
    },
    {
      "cell_type": "code",
      "source": [
        "# leitura do arquivo csv\n",
        "with open('/content/listaImagens.csv', \"r\") as f:\n",
        "  csv = [ l.replace('\\n','').split(',',maxsplit=1) for l in f.readlines()[1:]]\n",
        "# criando lista de entradas unicas\n",
        "entradas_unicas = []\n",
        "for entrada in csv:\n",
        "  if not entrada[0] in entradas_unicas:\n",
        "    entradas_unicas.append(entrada[0])\n",
        "# contando aparições\n",
        "contagem = []\n",
        "for entrada_unica in entradas_unicas:\n",
        "  soma = 0\n",
        "  for entrada in csv:\n",
        "    if entrada[0] == entrada_unica:\n",
        "      soma += 1\n",
        "  contagem.append(soma)\n",
        "# salvando em txt\n",
        "with open('exercicio-07.txt', 'w') as f:\n",
        "  for i in range(len(entradas_unicas)):\n",
        "    f.writelines(f'{entradas_unicas[i]} : {contagem[i]}\\n')"
      ],
      "metadata": {
        "id": "Cj9CfDy5g_Yz"
      },
      "execution_count": 90,
      "outputs": []
    }
  ]
}