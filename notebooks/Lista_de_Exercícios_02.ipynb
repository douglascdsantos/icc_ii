{
  "nbformat": 4,
  "nbformat_minor": 0,
  "metadata": {
    "colab": {
      "name": "Lista_de_Exercícios_02.ipynb",
      "provenance": [],
      "toc_visible": true,
      "authorship_tag": "ABX9TyNAA4wWpiI1s2Ep/gq9rnb8",
      "include_colab_link": true
    },
    "kernelspec": {
      "name": "python3",
      "display_name": "Python 3"
    },
    "language_info": {
      "name": "python"
    }
  },
  "cells": [
    {
      "cell_type": "markdown",
      "metadata": {
        "id": "view-in-github",
        "colab_type": "text"
      },
      "source": [
        "<a href=\"https://colab.research.google.com/github/douglascdsantos/unesp_icc_ii/blob/main/notebooks/Lista_de_Exerc%C3%ADcios_02.ipynb\" target=\"_parent\"><img src=\"https://colab.research.google.com/assets/colab-badge.svg\" alt=\"Open In Colab\"/></a>"
      ]
    },
    {
      "cell_type": "markdown",
      "metadata": {
        "id": "xJJMVdXZhVJO"
      },
      "source": [
        "## Exercício 01 (e)\n",
        "<center><img alt=\"Tokyo\"  width=\"70%\" src=\"https://cdn.loom.com/images/originals/0c12c32bc01a480daf5275470c6b3961.jpg?Expires=1637316518&Policy=eyJTdGF0ZW1lbnQiOlt7IlJlc291cmNlIjoiaHR0cHM6Ly9jZG4ubG9vbS5jb20vaW1hZ2VzL29yaWdpbmFscy8wYzEyYzMyYmMwMWE0ODBkYWY1Mjc1NDcwYzZiMzk2MS5qcGciLCJDb25kaXRpb24iOnsiRGF0ZUxlc3NUaGFuIjp7IkFXUzpFcG9jaFRpbWUiOjE2MzczMTY1MTh9fX1dfQ__&Signature=k0hDqXc2D6i6F6JhIx5JGplOfiWORXt~4hJ9IFgLTv4VNzgVrdKR0Ote1SbFcPtHt6KvllVKulSveu18A7IQ85ztq0TCLKCDRMUqx546fgNgzKHmYJGto8REg33-eX3yUkeLRyU2~yLvFcHwLk14j~KRuToJGPptQ-6COlM24Z~pzwx27AtsM21EXq2x7iTkw-TqDEdfaJVuhRZ6Qr-1ifJRCVxr5U8kE~KXZQcunCPsTRFdohagzEpRIcWxt4l98TyjoNo~kWLrOnlQ8f37CbWzx1HvpM7EiD~XBdVxDxsqA4M8wHOAo8hBHNEDes4nlrq88sA6UeDLFSErGaSRwQ__&Key-Pair-Id=APKAJQIC5BGSW7XXK7FQ\"></center>\n",
        "\n",
        "- `x` possui os valores de lista1 elevado ao quadrado [1,3,9,16,25]\n",
        "- `y` possui os valores impares de lista2 [1, 3, 5, 7, 9]"
      ]
    },
    {
      "cell_type": "code",
      "metadata": {
        "colab": {
          "base_uri": "https://localhost:8080/"
        },
        "id": "DHX-xX03gkLl",
        "outputId": "5445deb9-0bd8-46f3-c59f-cca3004fa59a"
      },
      "source": [
        "lista1 = [1,2,3,4,5]\n",
        "x = [i**2 for i in lista1]\n",
        "lista2 = list(range(1,10))\n",
        "y = [i for i in lista2 if i%2 != 0]\n",
        "print('x: ', x, ' y: ', y)"
      ],
      "execution_count": 1,
      "outputs": [
        {
          "output_type": "stream",
          "name": "stdout",
          "text": [
            "x:  [1, 4, 9, 16, 25]  y:  [1, 3, 5, 7, 9]\n"
          ]
        }
      ]
    },
    {
      "cell_type": "markdown",
      "metadata": {
        "id": "v3WqOrSLgyle"
      },
      "source": [
        "## Exercício 02 (a)\n",
        "<center><img alt=\"Tokyo\"  width=\"70%\" src=\"https://cdn.loom.com/images/originals/12e658ef63774f1d8762e5f977df21ab.jpg?Expires=1637316962&Policy=eyJTdGF0ZW1lbnQiOlt7IlJlc291cmNlIjoiaHR0cHM6Ly9jZG4ubG9vbS5jb20vaW1hZ2VzL29yaWdpbmFscy8xMmU2NThlZjYzNzc0ZjFkODc2MmU1Zjk3N2RmMjFhYi5qcGciLCJDb25kaXRpb24iOnsiRGF0ZUxlc3NUaGFuIjp7IkFXUzpFcG9jaFRpbWUiOjE2MzczMTY5NjJ9fX1dfQ__&Signature=e7wkXTW5RMCCe-kr3LU0XeP-gnZYaN9802H9zJY6b5euzwsrfgSH1qP-UpUsFRCxFA6uzA7n8A2N0KVLmcztEH6fP0jCZyDO~L8uAFZgcPHth3OHDoify3DV9aE7MkZum0QjsdRk6YbHyeguto1iBzo-6RBz4~rOd5W6jtHPnbIsxX7s54P3GvO0H0KYTF~g0jPH2sNcbke-a4EYGbL2eKUfGcraY14wGME3UP-Zv8iaoQ1IgLX0g4lSdURtI1dxBTIbVo6MIQZ3ybpnqjw9QbV-dXAqpbIr4phZ3CUC9CP5HObh4BLZD2oLFFZ6l4qG1atKeGuXK1i0kijQsd2LAg__&Key-Pair-Id=APKAJQIC5BGSW7XXK7FQ\"></center>\n",
        "\n",
        "- `5.0` é um float\n",
        "- `(5,0)` é uma tupla\n",
        "- `[5]` é uma lista\n",
        "- `5` é um int"
      ]
    },
    {
      "cell_type": "code",
      "metadata": {
        "colab": {
          "base_uri": "https://localhost:8080/"
        },
        "id": "B7QKKGwbhT7U",
        "outputId": "2e776e4c-33a4-471a-e316-3edc788ac048"
      },
      "source": [
        "x = (5.0)\n",
        "print(type(x))\n",
        "y = (5,0)\n",
        "print(type(y))\n",
        "w = [5]\n",
        "print(type(w))\n",
        "z = (5)\n",
        "print(type(z))"
      ],
      "execution_count": 2,
      "outputs": [
        {
          "output_type": "stream",
          "name": "stdout",
          "text": [
            "<class 'float'>\n",
            "<class 'tuple'>\n",
            "<class 'list'>\n",
            "<class 'int'>\n"
          ]
        }
      ]
    },
    {
      "cell_type": "markdown",
      "metadata": {
        "id": "wLE38BB4kqBn"
      },
      "source": [
        "## Exercício 03 (b)\n",
        "<center><img alt=\"Tokyo\"  width=\"70%\" src=\"https://cdn.loom.com/images/originals/50af80a912fe46309b5e33699b9d219b.jpg?Expires=1637317395&Policy=eyJTdGF0ZW1lbnQiOlt7IlJlc291cmNlIjoiaHR0cHM6Ly9jZG4ubG9vbS5jb20vaW1hZ2VzL29yaWdpbmFscy81MGFmODBhOTEyZmU0NjMwOWI1ZTMzNjk5YjlkMjE5Yi5qcGciLCJDb25kaXRpb24iOnsiRGF0ZUxlc3NUaGFuIjp7IkFXUzpFcG9jaFRpbWUiOjE2MzczMTczOTV9fX1dfQ__&Signature=rFKYgqZ4Y4tSy2d~dry24sYGfVTXCTZBTojnWqAJdOzgmkpoiM1xdw39VKRldmjix~vxaee4gRhesjUzIiNmHqfE05bQlHYPUvE9FnXSDXQ~vLRk83~uyDkR43rrwwxwSkU7y71MyUSzv51PQqp8dBlsE~fm2d~maCdBZchRffpDOSPZV3z0uDAmFnbE0siu7cNMIAY8Olgx4ut3G7gA4QNLWb-27wESLMYrkj8~ZUFGqkj6~3nypjPoMjvFEI1lRekFlIAJZPUX1UkM93YFmD5-zCqr788RvuT7eiTDQFKmqPZSb0GTFvzRlaNGtTZMZjj0sR2eQqHbWBxHKfqogQ__&Key-Pair-Id=APKAJQIC5BGSW7XXK7FQ\"></center>\n",
        "\n",
        "- primeiro `print` retornará as chaves do dicionário em lista\n",
        "- segundo `print` retornará os valores do dicionário em lista\n",
        "- terceiro `print` retornará cada chave e valor do dicionário em uma tupla dentro de uma lista"
      ]
    },
    {
      "cell_type": "code",
      "metadata": {
        "colab": {
          "base_uri": "https://localhost:8080/"
        },
        "id": "0Rh956Kmj2Ci",
        "outputId": "5878400f-7561-40bf-e944-38ac6ccd2f67"
      },
      "source": [
        "qtdeProdutos = {'sabao': 57, 'arroz':93, 'feijao':36, 'papel': 217}\n",
        "print(list(qtdeProdutos.keys()))\n",
        "print(list(qtdeProdutos.values()))\n",
        "print(list(qtdeProdutos.items()))"
      ],
      "execution_count": 3,
      "outputs": [
        {
          "output_type": "stream",
          "name": "stdout",
          "text": [
            "['sabao', 'arroz', 'feijao', 'papel']\n",
            "[57, 93, 36, 217]\n",
            "[('sabao', 57), ('arroz', 93), ('feijao', 36), ('papel', 217)]\n"
          ]
        }
      ]
    },
    {
      "cell_type": "markdown",
      "metadata": {
        "id": "wld_hTIWmmCN"
      },
      "source": [
        "## Exercício 04 (e)\n",
        "<center><img alt=\"Tokyo\"  width=\"70%\" src=\"https://cdn.loom.com/images/originals/bc11474aefa540d8833bf4dc4111679e.jpg?Expires=1637317945&Policy=eyJTdGF0ZW1lbnQiOlt7IlJlc291cmNlIjoiaHR0cHM6Ly9jZG4ubG9vbS5jb20vaW1hZ2VzL29yaWdpbmFscy9iYzExNDc0YWVmYTU0MGQ4ODMzYmY0ZGM0MTExNjc5ZS5qcGciLCJDb25kaXRpb24iOnsiRGF0ZUxlc3NUaGFuIjp7IkFXUzpFcG9jaFRpbWUiOjE2MzczMTc5NDV9fX1dfQ__&Signature=fQ9q27m7-jkszZsJluNYOgkB74nf9IiBCHWGHLq9Qq8ILLUf5JQ6B-PVnfBjEjn0Ac~wKKhY9UVLCR8lmNVOlsChunkMtmBWB8hITBIbwcpjnTPA8k2C0RU8fAtXg3L3fMiV5PmL7ipV9fLFG9zxO~1WQp-AfZcak9NEs4jSu3-mEQRiYg0Oa7V-9NEw1Fg6FU7-RQ8P24Y82ZnSTbmZSBxx~0lwY5K2oED5CwiyrGvcjPgmC7b-DqBJpg7rhYZz-S2wt508iISTsTgwVXlOC0CAFinbz~9u9RzT1ipk7LBsNbXZgiEPnRVAUVAKdp-ctRFnGlOfEwg12Lzk~kuprg__&Key-Pair-Id=APKAJQIC5BGSW7XXK7FQ\"></center>\n"
      ]
    },
    {
      "cell_type": "code",
      "metadata": {
        "colab": {
          "base_uri": "https://localhost:8080/"
        },
        "id": "pWvi5jQglw8T",
        "outputId": "64f62082-d491-4882-dcfc-ddb1b9cb144d"
      },
      "source": [
        "# (a)\n",
        "casos = {'SP': 837978, 'BA': 265739, 'RJ': 230271, 'MG': 224987}\n",
        "casos"
      ],
      "execution_count": 4,
      "outputs": [
        {
          "output_type": "execute_result",
          "data": {
            "text/plain": [
              "{'BA': 265739, 'MG': 224987, 'RJ': 230271, 'SP': 837978}"
            ]
          },
          "metadata": {},
          "execution_count": 4
        }
      ]
    },
    {
      "cell_type": "code",
      "metadata": {
        "id": "fAg5WsIhs20m",
        "outputId": "36df4c19-c049-498c-b5ea-dedc900f669d",
        "colab": {
          "base_uri": "https://localhost:8080/"
        }
      },
      "source": [
        "# (b)\n",
        "aux = list(casos.keys())\n",
        "aux.reverse()\n",
        "print([aux[i] for i in range(-1, -3, -1)]) # por o limite do range ser -3 vai imprimir somente 2 chaves e nesse caso não precisaria que os parametros de range seja negativo, uma vez que a lista já foi invertida"
      ],
      "execution_count": 15,
      "outputs": [
        {
          "output_type": "stream",
          "name": "stdout",
          "text": [
            "['SP', 'BA']\n"
          ]
        }
      ]
    },
    {
      "cell_type": "code",
      "metadata": {
        "id": "Z1My31vZs5fO",
        "outputId": "a3c2db13-fe10-4955-c62f-a346e264033d",
        "colab": {
          "base_uri": "https://localhost:8080/"
        }
      },
      "source": [
        "# (c)\n",
        "aux = list(casos.keys())\n",
        "print(aux[-1:])"
      ],
      "execution_count": 46,
      "outputs": [
        {
          "output_type": "stream",
          "name": "stdout",
          "text": [
            "['MG']\n"
          ]
        }
      ]
    },
    {
      "cell_type": "code",
      "metadata": {
        "id": "3q2nqN2rq0q1"
      },
      "source": [
        "# (d)\n",
        "# print(casos[-3:])\n",
        "# retorna: TypeError: unhashable type: 'slice'"
      ],
      "execution_count": 47,
      "outputs": []
    },
    {
      "cell_type": "code",
      "metadata": {
        "id": "mvq6Pw3uv5Lm",
        "outputId": "d049d43a-2fa6-4157-8002-a0fd2d4dc099",
        "colab": {
          "base_uri": "https://localhost:8080/"
        }
      },
      "source": [
        "# (e)\n",
        "aux = list(casos.keys())\n",
        "print([aux[i] for i in range(-1, -4, -1)])"
      ],
      "execution_count": 48,
      "outputs": [
        {
          "output_type": "stream",
          "name": "stdout",
          "text": [
            "['MG', 'RJ', 'BA']\n"
          ]
        }
      ]
    },
    {
      "cell_type": "markdown",
      "metadata": {
        "id": "3Bgx93-IyCdl"
      },
      "source": [
        "## Exercício 05 (a)\n",
        "<center><img alt=\"Tokyo\"  width=\"70%\" src=\"https://cdn.loom.com/images/originals/5c3cbbfa97c74965a9889789fac32158.jpg?Expires=1637321035&Policy=eyJTdGF0ZW1lbnQiOlt7IlJlc291cmNlIjoiaHR0cHM6Ly9jZG4ubG9vbS5jb20vaW1hZ2VzL29yaWdpbmFscy81YzNjYmJmYTk3Yzc0OTY1YTk4ODk3ODlmYWMzMjE1OC5qcGciLCJDb25kaXRpb24iOnsiRGF0ZUxlc3NUaGFuIjp7IkFXUzpFcG9jaFRpbWUiOjE2MzczMjEwMzV9fX1dfQ__&Signature=OJ-aBriY~XJ-4NJj4fArlt-hj~tTzHoh5dJkIa4AVg-WfnEOMKMTkSc~JlqaAtBXYrkaxGzX5utF~Fwv-7PhW40eMeqG0n~o3R4dRo9--C8axLAQKxUW8DAY0qVL3TDgJM-NpPqp2gmxNEw8jWlpYVcbRWljOeA1MWtQEqOTEiyVqkpMeLLtnZNEmdkxYJ97v6U2UrEPaQAYeofieOrBF01rwQ7KJvzD31-Co~kwgfSQkzPldOy1CZjF0CSuyMSP8MV4vyJYp~ARmUiptyYCdduvnf84eeri-~khDbt9TzUodsxHYYItKFSsK3aVtbRsFoM0PVcBKmrhJAuMahNXAw__&Key-Pair-Id=APKAJQIC5BGSW7XXK7FQ\"></center>\n"
      ]
    },
    {
      "cell_type": "markdown",
      "metadata": {
        "id": "GxBnZfuXyY4Q"
      },
      "source": [
        "## Exercício 06\n",
        "<center><img alt=\"Tokyo\"  width=\"70%\" src=\"https://cdn.loom.com/images/originals/f25383c838b6432ca37176e99e78da9e.jpg?Expires=1637321083&Policy=eyJTdGF0ZW1lbnQiOlt7IlJlc291cmNlIjoiaHR0cHM6Ly9jZG4ubG9vbS5jb20vaW1hZ2VzL29yaWdpbmFscy9mMjUzODNjODM4YjY0MzJjYTM3MTc2ZTk5ZTc4ZGE5ZS5qcGciLCJDb25kaXRpb24iOnsiRGF0ZUxlc3NUaGFuIjp7IkFXUzpFcG9jaFRpbWUiOjE2MzczMjEwODN9fX1dfQ__&Signature=OFqTS~pOIhmmhhvBfVdh50w~GSp933b5OA1j0Wguk~FYT3iR5lZhcLweBRlJWQiBY~sqQmFG7GB116FoBiKAwZAf-yO5w3XGyF6cRaDsmjST8c5P5hoyVtWPQDmn9wiVoqBlY4oDM-7kHS~OMFgU8FeZ3L6wx9WOwPfroX0rrvWqGaGQXoNd7gmFe3zLGlNA-Oen8tEjSLHW6CnnsRRCoLKpTBBLiJAuZSKlF-Nxi2WmID-cRV37HZAJzen5-qp4XhcgbIwezU6qWfyKsrz25qDlNNftatTACgj0-IDyjdNGQifz6CBclMmoED4oNtiaZwzyw8t9BAaQhRyIMsWzyQ__&Key-Pair-Id=APKAJQIC5BGSW7XXK7FQ\"></center>\n"
      ]
    },
    {
      "cell_type": "code",
      "metadata": {
        "id": "tYSedgkey0Cm",
        "outputId": "c9be908a-f8ee-4feb-98cb-d31d87e75252",
        "colab": {
          "base_uri": "https://localhost:8080/"
        }
      },
      "source": [
        "import random\n",
        "#criando a lista que irá receber os valores aleatórios\n",
        "salarios = []\n",
        "print('O programa gerou esses 50 valores inteiros de 1100 a 11000 de salarios:\\n')\n",
        "#preenchendo a lista com 50 números\n",
        "for i in range(50):\n",
        "  salarios.append(random.randint(1100,11000))\n",
        "salarios = sorted(salarios)\n",
        "print(salarios)\n",
        "#criando a lista que irá receber os salarios separadados pelo valor inserido\n",
        "sal_menor = []\n",
        "sal_maior_igual = []\n",
        "#recebendo o valor corte\n",
        "corte = int(input('\\nInsira o valor inteiro para separar os salarios: '))\n",
        "#preenchendo as listas de salarios menor e maior igual\n",
        "for i in range(len(salarios)):\n",
        "  if salarios[i] >= corte:\n",
        "    sal_maior_igual.append(salarios[i])\n",
        "  else:\n",
        "    sal_menor.append(salarios[i])\n",
        "print('\\n\\tMenor salario:\\n\\t', sal_menor)\n",
        "print('\\n\\tMaior ou igual salario:\\n\\t', sal_maior_igual)"
      ],
      "execution_count": 74,
      "outputs": [
        {
          "output_type": "stream",
          "name": "stdout",
          "text": [
            "O programa gerou esses 50 valores inteiros de 1100 a 11000 de salarios:\n",
            "\n",
            "[1391, 1429, 1470, 1940, 2030, 2138, 2366, 2633, 2681, 2746, 2792, 2834, 3049, 3475, 3967, 4430, 4583, 5890, 6026, 6056, 6112, 6295, 6314, 6432, 6610, 6730, 6736, 6925, 6969, 6984, 7094, 7104, 7160, 7287, 7300, 7389, 7513, 7630, 7699, 7968, 9077, 9149, 9320, 9366, 9450, 9573, 9849, 10137, 10300, 10965]\n",
            "\n",
            "Insira o valor inteiro para separar os salarios: 3475\n",
            "\n",
            "\tMenor salario:\n",
            "\t [1391, 1429, 1470, 1940, 2030, 2138, 2366, 2633, 2681, 2746, 2792, 2834, 3049]\n",
            "\n",
            "\tMaior ou igual salario:\n",
            "\t [3475, 3967, 4430, 4583, 5890, 6026, 6056, 6112, 6295, 6314, 6432, 6610, 6730, 6736, 6925, 6969, 6984, 7094, 7104, 7160, 7287, 7300, 7389, 7513, 7630, 7699, 7968, 9077, 9149, 9320, 9366, 9450, 9573, 9849, 10137, 10300, 10965]\n"
          ]
        }
      ]
    },
    {
      "cell_type": "markdown",
      "metadata": {
        "id": "XVJWaVUfyY7_"
      },
      "source": [
        "## Exercício 07\n",
        "\n",
        "Mostre uma solução para o exercício anterior usando compreensão de listas.\n"
      ]
    },
    {
      "cell_type": "code",
      "metadata": {
        "id": "h9csPBne5DeO",
        "outputId": "38385950-be85-4495-b03c-9fa65ab93e4c",
        "colab": {
          "base_uri": "https://localhost:8080/",
          "height": 129
        }
      },
      "source": [
        "import random\n",
        "#criando a lista que irá receber os valores aleatórios\n",
        "salarios = []\n",
        "print('O programa gerou esses 50 valores inteiros de 1100 a 11000 de salarios:\\n')\n",
        "#preenchendo a lista com 50 números\n",
        "salarios = [random.randint(1100,11000) for i in range(50)]\n",
        "\n",
        "salarios = sorted(salarios)\n",
        "print(salarios)\n",
        "#criando a lista que irá receber os salarios separadados pelo valor inserido\n",
        "sal_menor = []\n",
        "sal_maior_igual = []\n",
        "#recebendo o valor corte\n",
        "corte = int(input('\\nInsira o valor inteiro para separar os salarios: '))\n",
        "#preenchendo as listas de salarios menor e maior igual\n",
        "sal_maior_igual [(salarios[i]) if salarios[i] >= corte for i in range(len(salarios))]\n",
        "print('\\n\\tMenor salario:\\n\\t', sal_menor)\n",
        "print('\\n\\tMaior ou igual salario:\\n\\t', sal_maior_igual)"
      ],
      "execution_count": 82,
      "outputs": [
        {
          "output_type": "error",
          "ename": "SyntaxError",
          "evalue": "ignored",
          "traceback": [
            "\u001b[0;36m  File \u001b[0;32m\"<ipython-input-82-c86bc3573e83>\"\u001b[0;36m, line \u001b[0;32m16\u001b[0m\n\u001b[0;31m    sal_maior_igual [(salarios[i]) if salarios[i] >= corte for i in range(len(salarios))]\u001b[0m\n\u001b[0m                                                             ^\u001b[0m\n\u001b[0;31mSyntaxError\u001b[0m\u001b[0;31m:\u001b[0m invalid syntax\n"
          ]
        }
      ]
    },
    {
      "cell_type": "markdown",
      "metadata": {
        "id": "NhR7ZEkvrIq9"
      },
      "source": [
        "# Dúvidas\n",
        "\n",
        "- (4) como ordenar valores no dicionário caso os valores não fossem inseridos no dicionário de maneira crescente?\n",
        "\n",
        "- (4) porque quando visualizamos o dicionario ele aparece ordenado por ordem alfabetica de suas chaves que não é a mesma ordem de criação ?"
      ]
    },
    {
      "cell_type": "code",
      "metadata": {
        "id": "nnrvswgprPLD"
      },
      "source": [
        ""
      ],
      "execution_count": 4,
      "outputs": []
    }
  ]
}