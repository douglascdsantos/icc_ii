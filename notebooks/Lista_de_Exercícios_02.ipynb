{
  "nbformat": 4,
  "nbformat_minor": 0,
  "metadata": {
    "colab": {
      "name": "Lista_de_Exercícios_02.ipynb",
      "provenance": [],
      "toc_visible": true,
      "authorship_tag": "ABX9TyNT1AVweYi2IkyosjceJ/5O",
      "include_colab_link": true
    },
    "kernelspec": {
      "name": "python3",
      "display_name": "Python 3"
    },
    "language_info": {
      "name": "python"
    }
  },
  "cells": [
    {
      "cell_type": "markdown",
      "metadata": {
        "id": "view-in-github",
        "colab_type": "text"
      },
      "source": [
        "<a href=\"https://colab.research.google.com/github/douglascdsantos/unesp_icc_ii/blob/main/notebooks/Lista_de_Exerc%C3%ADcios_02.ipynb\" target=\"_parent\"><img src=\"https://colab.research.google.com/assets/colab-badge.svg\" alt=\"Open In Colab\"/></a>"
      ]
    },
    {
      "cell_type": "markdown",
      "metadata": {
        "id": "xJJMVdXZhVJO"
      },
      "source": [
        "## Exercício 01 (e)\n",
        "<center><img alt=\"Tokyo\"  width=\"70%\" src=\"https://cdn.loom.com/images/originals/0c12c32bc01a480daf5275470c6b3961.jpg?Expires=1637316518&Policy=eyJTdGF0ZW1lbnQiOlt7IlJlc291cmNlIjoiaHR0cHM6Ly9jZG4ubG9vbS5jb20vaW1hZ2VzL29yaWdpbmFscy8wYzEyYzMyYmMwMWE0ODBkYWY1Mjc1NDcwYzZiMzk2MS5qcGciLCJDb25kaXRpb24iOnsiRGF0ZUxlc3NUaGFuIjp7IkFXUzpFcG9jaFRpbWUiOjE2MzczMTY1MTh9fX1dfQ__&Signature=k0hDqXc2D6i6F6JhIx5JGplOfiWORXt~4hJ9IFgLTv4VNzgVrdKR0Ote1SbFcPtHt6KvllVKulSveu18A7IQ85ztq0TCLKCDRMUqx546fgNgzKHmYJGto8REg33-eX3yUkeLRyU2~yLvFcHwLk14j~KRuToJGPptQ-6COlM24Z~pzwx27AtsM21EXq2x7iTkw-TqDEdfaJVuhRZ6Qr-1ifJRCVxr5U8kE~KXZQcunCPsTRFdohagzEpRIcWxt4l98TyjoNo~kWLrOnlQ8f37CbWzx1HvpM7EiD~XBdVxDxsqA4M8wHOAo8hBHNEDes4nlrq88sA6UeDLFSErGaSRwQ__&Key-Pair-Id=APKAJQIC5BGSW7XXK7FQ\"></center>\n",
        "\n",
        "- `x` possui os valores de lista1 elevado ao quadrado [1,3,9,16,25]\n",
        "- `y` possui os valores impares de lista2 [1, 3, 5, 7, 9]"
      ]
    },
    {
      "cell_type": "code",
      "metadata": {
        "colab": {
          "base_uri": "https://localhost:8080/"
        },
        "id": "DHX-xX03gkLl",
        "outputId": "19ce8edf-4909-4447-bb68-ba5511b17f55"
      },
      "source": [
        "lista1 = [1,2,3,4,5]\n",
        "x = [i**2 for i in lista1]\n",
        "lista2 = list(range(1,10))\n",
        "y = [i for i in lista2 if i%2 != 0]\n",
        "print('x: ', x, ' y: ', y)"
      ],
      "execution_count": 1,
      "outputs": [
        {
          "output_type": "stream",
          "name": "stdout",
          "text": [
            "x:  [1, 4, 9, 16, 25]  y:  [1, 3, 5, 7, 9]\n"
          ]
        }
      ]
    },
    {
      "cell_type": "markdown",
      "metadata": {
        "id": "v3WqOrSLgyle"
      },
      "source": [
        "## Exercício 02 (a)\n",
        "<center><img alt=\"Tokyo\"  width=\"70%\" src=\"https://cdn.loom.com/images/originals/12e658ef63774f1d8762e5f977df21ab.jpg?Expires=1637316962&Policy=eyJTdGF0ZW1lbnQiOlt7IlJlc291cmNlIjoiaHR0cHM6Ly9jZG4ubG9vbS5jb20vaW1hZ2VzL29yaWdpbmFscy8xMmU2NThlZjYzNzc0ZjFkODc2MmU1Zjk3N2RmMjFhYi5qcGciLCJDb25kaXRpb24iOnsiRGF0ZUxlc3NUaGFuIjp7IkFXUzpFcG9jaFRpbWUiOjE2MzczMTY5NjJ9fX1dfQ__&Signature=e7wkXTW5RMCCe-kr3LU0XeP-gnZYaN9802H9zJY6b5euzwsrfgSH1qP-UpUsFRCxFA6uzA7n8A2N0KVLmcztEH6fP0jCZyDO~L8uAFZgcPHth3OHDoify3DV9aE7MkZum0QjsdRk6YbHyeguto1iBzo-6RBz4~rOd5W6jtHPnbIsxX7s54P3GvO0H0KYTF~g0jPH2sNcbke-a4EYGbL2eKUfGcraY14wGME3UP-Zv8iaoQ1IgLX0g4lSdURtI1dxBTIbVo6MIQZ3ybpnqjw9QbV-dXAqpbIr4phZ3CUC9CP5HObh4BLZD2oLFFZ6l4qG1atKeGuXK1i0kijQsd2LAg__&Key-Pair-Id=APKAJQIC5BGSW7XXK7FQ\"></center>\n",
        "\n",
        "- `5.0` é um float\n",
        "- `(5,0)` é uma tupla\n",
        "- `[5]` é uma lista\n",
        "- `5` é um int"
      ]
    },
    {
      "cell_type": "code",
      "metadata": {
        "colab": {
          "base_uri": "https://localhost:8080/"
        },
        "id": "B7QKKGwbhT7U",
        "outputId": "3c69404d-80e1-4e81-b16f-c6210692f96c"
      },
      "source": [
        "x = (5.0)\n",
        "print(type(x))\n",
        "y = (5,0)\n",
        "print(type(y))\n",
        "w = [5]\n",
        "print(type(w))\n",
        "z = (5)\n",
        "print(type(z))"
      ],
      "execution_count": 2,
      "outputs": [
        {
          "output_type": "stream",
          "name": "stdout",
          "text": [
            "<class 'float'>\n",
            "<class 'tuple'>\n",
            "<class 'list'>\n",
            "<class 'int'>\n"
          ]
        }
      ]
    },
    {
      "cell_type": "markdown",
      "metadata": {
        "id": "wLE38BB4kqBn"
      },
      "source": [
        "## Exercício 03 (b)\n",
        "<center><img alt=\"Tokyo\"  width=\"70%\" src=\"https://cdn.loom.com/images/originals/50af80a912fe46309b5e33699b9d219b.jpg?Expires=1637317395&Policy=eyJTdGF0ZW1lbnQiOlt7IlJlc291cmNlIjoiaHR0cHM6Ly9jZG4ubG9vbS5jb20vaW1hZ2VzL29yaWdpbmFscy81MGFmODBhOTEyZmU0NjMwOWI1ZTMzNjk5YjlkMjE5Yi5qcGciLCJDb25kaXRpb24iOnsiRGF0ZUxlc3NUaGFuIjp7IkFXUzpFcG9jaFRpbWUiOjE2MzczMTczOTV9fX1dfQ__&Signature=rFKYgqZ4Y4tSy2d~dry24sYGfVTXCTZBTojnWqAJdOzgmkpoiM1xdw39VKRldmjix~vxaee4gRhesjUzIiNmHqfE05bQlHYPUvE9FnXSDXQ~vLRk83~uyDkR43rrwwxwSkU7y71MyUSzv51PQqp8dBlsE~fm2d~maCdBZchRffpDOSPZV3z0uDAmFnbE0siu7cNMIAY8Olgx4ut3G7gA4QNLWb-27wESLMYrkj8~ZUFGqkj6~3nypjPoMjvFEI1lRekFlIAJZPUX1UkM93YFmD5-zCqr788RvuT7eiTDQFKmqPZSb0GTFvzRlaNGtTZMZjj0sR2eQqHbWBxHKfqogQ__&Key-Pair-Id=APKAJQIC5BGSW7XXK7FQ\"></center>\n",
        "\n",
        "- primeiro `print` retornará as chaves do dicionário em lista\n",
        "- segundo `print` retornará os valores do dicionário em lista\n",
        "- terceiro `print` retornará cada chave e valor do dicionário em uma tupla dentro de uma lista"
      ]
    },
    {
      "cell_type": "code",
      "metadata": {
        "colab": {
          "base_uri": "https://localhost:8080/"
        },
        "id": "0Rh956Kmj2Ci",
        "outputId": "f97d8e15-0872-4c4d-dcc4-fcda3d03b84a"
      },
      "source": [
        "qtdeProdutos = {'sabao': 57, 'arroz':93, 'feijao':36, 'papel': 217}\n",
        "print(list(qtdeProdutos.keys()))\n",
        "print(list(qtdeProdutos.values()))\n",
        "print(list(qtdeProdutos.items()))"
      ],
      "execution_count": 3,
      "outputs": [
        {
          "output_type": "stream",
          "name": "stdout",
          "text": [
            "['sabao', 'arroz', 'feijao', 'papel']\n",
            "[57, 93, 36, 217]\n",
            "[('sabao', 57), ('arroz', 93), ('feijao', 36), ('papel', 217)]\n"
          ]
        }
      ]
    },
    {
      "cell_type": "markdown",
      "metadata": {
        "id": "wld_hTIWmmCN"
      },
      "source": [
        "## Exercício 04 ()\n",
        "<center><img alt=\"Tokyo\"  width=\"70%\" src=\"https://cdn.loom.com/images/originals/bc11474aefa540d8833bf4dc4111679e.jpg?Expires=1637317945&Policy=eyJTdGF0ZW1lbnQiOlt7IlJlc291cmNlIjoiaHR0cHM6Ly9jZG4ubG9vbS5jb20vaW1hZ2VzL29yaWdpbmFscy9iYzExNDc0YWVmYTU0MGQ4ODMzYmY0ZGM0MTExNjc5ZS5qcGciLCJDb25kaXRpb24iOnsiRGF0ZUxlc3NUaGFuIjp7IkFXUzpFcG9jaFRpbWUiOjE2MzczMTc5NDV9fX1dfQ__&Signature=fQ9q27m7-jkszZsJluNYOgkB74nf9IiBCHWGHLq9Qq8ILLUf5JQ6B-PVnfBjEjn0Ac~wKKhY9UVLCR8lmNVOlsChunkMtmBWB8hITBIbwcpjnTPA8k2C0RU8fAtXg3L3fMiV5PmL7ipV9fLFG9zxO~1WQp-AfZcak9NEs4jSu3-mEQRiYg0Oa7V-9NEw1Fg6FU7-RQ8P24Y82ZnSTbmZSBxx~0lwY5K2oED5CwiyrGvcjPgmC7b-DqBJpg7rhYZz-S2wt508iISTsTgwVXlOC0CAFinbz~9u9RzT1ipk7LBsNbXZgiEPnRVAUVAKdp-ctRFnGlOfEwg12Lzk~kuprg__&Key-Pair-Id=APKAJQIC5BGSW7XXK7FQ\"></center>\n"
      ]
    },
    {
      "cell_type": "code",
      "metadata": {
        "colab": {
          "base_uri": "https://localhost:8080/"
        },
        "id": "pWvi5jQglw8T",
        "outputId": "8f354cce-ecfa-410a-8858-9744d8561439"
      },
      "source": [
        "casos = {'SP': 837978, 'BA': 265739, 'RJ': 230271, 'MG': 224987}\n",
        "casos"
      ],
      "execution_count": 10,
      "outputs": [
        {
          "output_type": "execute_result",
          "data": {
            "text/plain": [
              "{'BA': 265739, 'MG': 224987, 'RJ': 230271, 'SP': 837978}"
            ]
          },
          "metadata": {},
          "execution_count": 10
        }
      ]
    },
    {
      "cell_type": "code",
      "metadata": {
        "id": "3q2nqN2rq0q1"
      },
      "source": [
        ""
      ],
      "execution_count": 8,
      "outputs": []
    },
    {
      "cell_type": "markdown",
      "metadata": {
        "id": "NhR7ZEkvrIq9"
      },
      "source": [
        "# Dúvidas\n",
        "- (4) como ordenar valores no dicionário ?"
      ]
    },
    {
      "cell_type": "code",
      "metadata": {
        "id": "nnrvswgprPLD"
      },
      "source": [
        ""
      ],
      "execution_count": 8,
      "outputs": []
    }
  ]
}