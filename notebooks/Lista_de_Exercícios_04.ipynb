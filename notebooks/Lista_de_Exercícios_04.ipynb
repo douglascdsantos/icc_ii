{
  "nbformat": 4,
  "nbformat_minor": 0,
  "metadata": {
    "colab": {
      "name": "icc2_lista03.ipynb",
      "provenance": [],
      "toc_visible": true,
      "authorship_tag": "ABX9TyP4EfURFpqdbrxn6pk7W2hd",
      "include_colab_link": true
    },
    "kernelspec": {
      "name": "python3",
      "display_name": "Python 3"
    },
    "language_info": {
      "name": "python"
    }
  },
  "cells": [
    {
      "cell_type": "markdown",
      "metadata": {
        "id": "view-in-github",
        "colab_type": "text"
      },
      "source": [
        "<a href=\"https://colab.research.google.com/github/douglascdsantos/unesp_icc_ii/blob/main/notebooks/Lista_de_Exerc%C3%ADcios_04.ipynb\" target=\"_parent\"><img src=\"https://colab.research.google.com/assets/colab-badge.svg\" alt=\"Open In Colab\"/></a>"
      ]
    },
    {
      "cell_type": "markdown",
      "metadata": {
        "id": "S4bB3M0Fw-8o"
      },
      "source": [
        "#Introdução à Ciência da Computação II\n",
        "Discente: Douglas Camargo dos Santos"
      ]
    },
    {
      "cell_type": "markdown",
      "metadata": {
        "id": "vBKu_2hkwoiA"
      },
      "source": [
        "#Lista de Exercícios 04"
      ]
    },
    {
      "cell_type": "markdown",
      "metadata": {
        "id": "LL83pwVIekeL"
      },
      "source": [
        "## Exercício 01 (c)\n",
        "<center><img width=\"70%\" src=\"https://cdn.loom.com/images/originals/35181f73721748e19d97bdddb3fc83ba.jpg?Expires=1638127234&Policy=eyJTdGF0ZW1lbnQiOlt7IlJlc291cmNlIjoiaHR0cHM6Ly9jZG4ubG9vbS5jb20vaW1hZ2VzL29yaWdpbmFscy8zNTE4MWY3MzcyMTc0OGUxOWQ5N2JkZGRiM2ZjODNiYS5qcGciLCJDb25kaXRpb24iOnsiRGF0ZUxlc3NUaGFuIjp7IkFXUzpFcG9jaFRpbWUiOjE2MzgxMjcyMzR9fX1dfQ__&Signature=L6FIkMYs-jvFuNFnch-ZC-2ciFhjcBeyCxega0xwA56lDT6N44IqwtogDWo8-ZZACAThaxbKeKqNIlrnBHGPUSlU63LR6nrQwxnxyoWtjVWeGAPfOy1sBqKveH3xCT3ef4cpxoThLT7XC8WLnMVfEKtCDmIzkxDD2F1kpvMGruR7JemFvJqe3bB9IZc-8UAxbd3e-Jw-ozL9sL1IrIsCuJDPau696wOYAVNhmDA5yKZ9EcZV6RYciaVJ2mcEzlBq1tZ8AP~VEWohqZSHfUMIUZ5ze66oltwJIFeQSMAHRSnegsfenqn09~pg48wERydkPC72v7wuXDESI0sYYkqQJQ__&Key-Pair-Id=APKAJQIC5BGSW7XXK7FQ\"></center>"
      ]
    },
    {
      "cell_type": "code",
      "metadata": {
        "id": "PJaOhBydeTfq",
        "colab": {
          "base_uri": "https://localhost:8080/"
        },
        "outputId": "db75c396-9001-4078-a5e5-cf8867ee27ad"
      },
      "source": [
        "def f1 (x):\n",
        "  x = x ** 2\n",
        "  return x\n",
        "x = 5\n",
        "res = f1(x)\n",
        "#teste\n",
        "print('Res: ', res, '- x: ', x)"
      ],
      "execution_count": null,
      "outputs": [
        {
          "output_type": "stream",
          "name": "stdout",
          "text": [
            "Res:  25 - x:  5\n"
          ]
        }
      ]
    },
    {
      "cell_type": "markdown",
      "metadata": {
        "id": "T1tk_t3yfXte"
      },
      "source": [
        "## Exercício 02 (e)\n",
        "<center><img width=\"70%\" src=\"https://cdn.loom.com/images/originals/e24bfb551e52437aaac06585e3dca0fb.jpg?Expires=1638127269&Policy=eyJTdGF0ZW1lbnQiOlt7IlJlc291cmNlIjoiaHR0cHM6Ly9jZG4ubG9vbS5jb20vaW1hZ2VzL29yaWdpbmFscy9lMjRiZmI1NTFlNTI0MzdhYWFjMDY1ODVlM2RjYTBmYi5qcGciLCJDb25kaXRpb24iOnsiRGF0ZUxlc3NUaGFuIjp7IkFXUzpFcG9jaFRpbWUiOjE2MzgxMjcyNjl9fX1dfQ__&Signature=oipYHJixSyujurz-DvQWyHUcWnFG7Uc4XWEeYN-KjoJFnhr4vBLXj7OOo3Neie~SRYTT68GheKU84QbaC26T7GBEuWq~AIvjk5EZ8phjPQXPr~ihZo36a3TalG7nNAoYjiXd6Th~OSQYzc5IeHuwYtKo5C~9jKR8M0u-hTJ8QW9RG0kwnNTRdPKaDApxOaw1LNmlm3EICWEfUIPTbHszwVEQ7hyyuQvht1~6gBAhPG2LarDnmjUTnRfnjeHRNbyd5RL6F~Gr5LyrNKfNFJcQcZjBNt5-nph0BilQtrbFUdOVyjaq4TEExLOT7WfiOzSgMYtOTAmT5A7uWl-mHzAe5Q__&Key-Pair-Id=APKAJQIC5BGSW7XXK7FQ\"></center>"
      ]
    },
    {
      "cell_type": "code",
      "metadata": {
        "id": "o9LQTU_kfRtO",
        "colab": {
          "base_uri": "https://localhost:8080/"
        },
        "outputId": "39fccc68-4af7-4aba-f0d2-a1bfe2ba3412"
      },
      "source": [
        "def f1(seq):\n",
        "  seq[0] = 0\n",
        "  return seq\n",
        "\n",
        "seq = [1,2,3]\n",
        "res = f1(seq)\n",
        "print(res)"
      ],
      "execution_count": null,
      "outputs": [
        {
          "output_type": "stream",
          "name": "stdout",
          "text": [
            "[0, 2, 3]\n"
          ]
        }
      ]
    },
    {
      "cell_type": "markdown",
      "metadata": {
        "id": "pLGL9bOanKFa"
      },
      "source": [
        "## Exercício 03 (e)\n",
        "<center><img width=\"70%\" src=\"https://cdn.loom.com/images/originals/e391a4f8d0404ca9a5a6d2db3ca8df19.jpg?Expires=1638127302&Policy=eyJTdGF0ZW1lbnQiOlt7IlJlc291cmNlIjoiaHR0cHM6Ly9jZG4ubG9vbS5jb20vaW1hZ2VzL29yaWdpbmFscy9lMzkxYTRmOGQwNDA0Y2E5YTVhNmQyZGIzY2E4ZGYxOS5qcGciLCJDb25kaXRpb24iOnsiRGF0ZUxlc3NUaGFuIjp7IkFXUzpFcG9jaFRpbWUiOjE2MzgxMjczMDJ9fX1dfQ__&Signature=BxM3rFRpiuE1gv0h-BMHt7B~-KrKFjPCbAg8ObkkcmmZxBhGN0kkkJj2FR-0n4nKti8rf7YYKxgIYp~kJjYMrSjEO7auPXxLXXVt4EvQAmXG-TEtgsh1kIiP~vhsfxIQMLlWfXjxYMOF8auPihmO3GA4-3O~OUebduS84TP973d6sHec7ZikGwCTke3fvei0RcFo79rMhRWyz66seC0zsC98uUk~Mz7GEKA88O5qOlwnClNx8lyrd9NB87liOsXCnyMnjL~xGnnn6Mhb2gs0Q9FCQFrCVZo4yUpiBAIuMXDA1OsWzP63xBbyfbvW3YaRjXhPnhWOl7HaBWAy1wW2rw__&Key-Pair-Id=APKAJQIC5BGSW7XXK7FQ\"></center>"
      ]
    },
    {
      "cell_type": "code",
      "metadata": {
        "id": "UrI3d1XigeVC",
        "colab": {
          "base_uri": "https://localhost:8080/"
        },
        "outputId": "e016f6db-d09e-4411-e75f-294daf523816"
      },
      "source": [
        "def f1(seq):\n",
        "  seq[0] = 0\n",
        "  return seq\n",
        "\n",
        "seq = [1,2,3]\n",
        "res = f1(seq)\n",
        "print(res)"
      ],
      "execution_count": null,
      "outputs": [
        {
          "output_type": "stream",
          "name": "stdout",
          "text": [
            "[0, 2, 3]\n"
          ]
        }
      ]
    },
    {
      "cell_type": "markdown",
      "metadata": {
        "id": "dOX9xHC7pydk"
      },
      "source": [
        "## Exercício 04 ()\n",
        "<center><img width=\"70%\" src=\"https://cdn.loom.com/images/originals/24b520bfaa4e4899b90b5470f7f7c4a1.jpg?Expires=1638127355&Policy=eyJTdGF0ZW1lbnQiOlt7IlJlc291cmNlIjoiaHR0cHM6Ly9jZG4ubG9vbS5jb20vaW1hZ2VzL29yaWdpbmFscy8yNGI1MjBiZmFhNGU0ODk5YjkwYjU0NzBmN2Y3YzRhMS5qcGciLCJDb25kaXRpb24iOnsiRGF0ZUxlc3NUaGFuIjp7IkFXUzpFcG9jaFRpbWUiOjE2MzgxMjczNTV9fX1dfQ__&Signature=D~pKd56Beux01lhAmI7oGr2OT4D7Uscx83E4y0I4VtKhp5YpLx2kR3w33GEKk~Z~D0MEne-HG6GG1XYCOZuL3TQCzIDr10GZUMFh0Rj~xMeKk5pzGJe14eRbIDaqLsmmBxqG0u-184nzboGI6W7Cvw38xpGWGigb2p2cHf7mks0UjJUqozgOJ8eF4OxwpcLdhD8cRE14Ns5gU0a~acTPnPjQHz8S0xbyj~qi29mxuTh887I4XpeooU2Dd16icYpU1qqnjUTMS4ziLEFZtu9MhiSRoqdvXgWgQJ978Lwi7mFjratz0YA4BAk7KcuYBduhvJGV0IzpYtd7n5cfbAKS4A__&Key-Pair-Id=APKAJQIC5BGSW7XXK7FQ\"></center>"
      ]
    },
    {
      "cell_type": "code",
      "metadata": {
        "id": "OQGQNhtfpWgU"
      },
      "source": [
        ""
      ],
      "execution_count": null,
      "outputs": []
    },
    {
      "cell_type": "markdown",
      "metadata": {
        "id": "CgQxIWW-t_Aj"
      },
      "source": [
        "## Exercício 05 ()\n",
        "<center><img width=\"70%\" src=\"https://cdn.loom.com/images/originals/ec7be1ab057e4cc59ae3d70ddcd61b0f.jpg?Expires=1638127395&Policy=eyJTdGF0ZW1lbnQiOlt7IlJlc291cmNlIjoiaHR0cHM6Ly9jZG4ubG9vbS5jb20vaW1hZ2VzL29yaWdpbmFscy9lYzdiZTFhYjA1N2U0Y2M1OWFlM2Q3MGRkY2Q2MWIwZi5qcGciLCJDb25kaXRpb24iOnsiRGF0ZUxlc3NUaGFuIjp7IkFXUzpFcG9jaFRpbWUiOjE2MzgxMjczOTV9fX1dfQ__&Signature=EUJJR5bKDLOR3HSkXXe1eBoY0vsJSWiOpk3g4WvSxe3HxoJjzVAEVKJ9vuygaQGUVQW94pi55VNB4KhHFsjfnRGg51n-6yDXdRNXozLXze0UMuHtXugtI1zN1QF6SM0-eYMp6XS1xi4afFUycC4Bp5e~0xI8Klj1rDVo~NkyjpMGK7EC1fP9xQW2JhdhAt2vTCUzm5iAcHieoLkA3x~9-s22gNk6s-QeDIo-X1d97lLXSPHGUg-JCH2DB1JZ0GxXxeRSdwIo74OB7pc4Rz4kP4NYw8aUtq5w~VhK9KK9Z2VC4yZ1i3l3cHKKUYui7MSaEeB7tk~gQKcXtb~mU8MtRA__&Key-Pair-Id=APKAJQIC5BGSW7XXK7FQ\"></center>"
      ]
    },
    {
      "cell_type": "code",
      "metadata": {
        "id": "ZxMXJiPHt0fY",
        "colab": {
          "base_uri": "https://localhost:8080/"
        },
        "outputId": "3a279d6f-86d6-495c-dd55-8634fff5e9b6"
      },
      "source": [
        ""
      ],
      "execution_count": null,
      "outputs": [
        {
          "output_type": "execute_result",
          "data": {
            "text/plain": [
              "-1"
            ]
          },
          "metadata": {},
          "execution_count": 9
        }
      ]
    },
    {
      "cell_type": "markdown",
      "metadata": {
        "id": "d5GMEnX7JVps"
      },
      "source": [
        "## Exercício 06\n",
        "<center><img width=\"70%\" src=\"https://cdn.loom.com/images/originals/b65ffd476d1e406e92cebcfc7cdf70d5.jpg?Expires=1638127441&Policy=eyJTdGF0ZW1lbnQiOlt7IlJlc291cmNlIjoiaHR0cHM6Ly9jZG4ubG9vbS5jb20vaW1hZ2VzL29yaWdpbmFscy9iNjVmZmQ0NzZkMWU0MDZlOTJjZWJjZmM3Y2RmNzBkNS5qcGciLCJDb25kaXRpb24iOnsiRGF0ZUxlc3NUaGFuIjp7IkFXUzpFcG9jaFRpbWUiOjE2MzgxMjc0NDF9fX1dfQ__&Signature=i1xoY9e~bIzBvysPzADA38ticTVsqlX989GmDYyZds1IFBtGsVS22UXkKQ928I-UugUYf~UAxu~mNbN090QXAZEoSb2Q3iI652gGwDLCwOG~j-QcpHi~ub5XjSSpWqLonf29g~o6Myu1RDmnhSH-~Zr63DHGULHeDPn1PXavQjx24lj9rF3x-qBXMbA7shzBiMD~S4gYdoOA8gVVTsj4KUoT0~xyjXX3Cm3bAYYEOjn40yh~w3NPCR21llHI53osUkzaE~wsnelbEZi-YuU4mURyI8LEO~Zh-410EDT4MVgU0ls23X8D4AArRt45KRLrxqy1n87BAlf8lC2aN-LDxA__&Key-Pair-Id=APKAJQIC5BGSW7XXK7FQ\"></center>\n"
      ]
    },
    {
      "cell_type": "code",
      "metadata": {
        "id": "UEmSxpnc2wbv",
        "colab": {
          "base_uri": "https://localhost:8080/"
        },
        "outputId": "87b5a18f-b3fe-4307-cde3-eef752fe8553"
      },
      "source": [
        "import random\n",
        "# preenchendo a lista\n",
        "lista_entrada = sorted([random.randint(-10,10) for i in range(10)])\n",
        "print('A lista de teste:\\n\\t',lista_entrada)\n",
        "# função que separa os elementos\n",
        "def selecao_lista (lista,sinal = 'positivos'):\n",
        "  if sinal == 'positivos':\n",
        "    lista_retorno = [elemento for elemento in lista if elemento >= 0]\n",
        "  elif sinal == 'negativos':\n",
        "    lista_retorno = [elemento for elemento in lista if elemento < 0]\n",
        "  else:\n",
        "    print('você passou uma parâmetro de maneira errada.')\n",
        "  return lista_retorno\n",
        "\n",
        "print('\\nSem passar o segundo argumento, temos\\n\\t',selecao_lista(lista_entrada))\n",
        "print('\\nPassando o segundo argumento como \"negativos\", temos\\n\\t',selecao_lista(lista_entrada,'negativos'))\n",
        "print('\\nPassando o segundo argumento como \"positivos\", temos\\n\\t',selecao_lista(lista_entrada,'positivos'))\n"
      ],
      "execution_count": null,
      "outputs": [
        {
          "output_type": "stream",
          "name": "stdout",
          "text": [
            "A lista de teste:\n",
            "\t [-9, -8, -6, -6, -6, -6, -3, -2, 3, 3]\n",
            "\n",
            "Sem passar o segundo argumento, temos\n",
            "\t [3, 3]\n",
            "\n",
            "Passando o segundo argumento como \"negativos\", temos\n",
            "\t [-9, -8, -6, -6, -6, -6, -3, -2]\n",
            "\n",
            "Passando o segundo argumento como \"positivos\", temos\n",
            "\t [3, 3]\n"
          ]
        }
      ]
    },
    {
      "cell_type": "markdown",
      "metadata": {
        "id": "DlJyZr2fDjod"
      },
      "source": [
        "## Exercício 07\n",
        "<center><img width=\"70%\" src=\"https://cdn.loom.com/images/originals/11021c2b85664709b0deff0356faec61.jpg?Expires=1638127475&Policy=eyJTdGF0ZW1lbnQiOlt7IlJlc291cmNlIjoiaHR0cHM6Ly9jZG4ubG9vbS5jb20vaW1hZ2VzL29yaWdpbmFscy8xMTAyMWMyYjg1NjY0NzA5YjBkZWZmMDM1NmZhZWM2MS5qcGciLCJDb25kaXRpb24iOnsiRGF0ZUxlc3NUaGFuIjp7IkFXUzpFcG9jaFRpbWUiOjE2MzgxMjc0NzV9fX1dfQ__&Signature=CiyuUUbJHPwD9437g0HCq3A4cuc3dzLMTb8oh6vlZ2abBH11fPLfASZz3QNU6B0v8nI~7eaNDCi0E4K~ypTaMlm~kle877QRPNsU9gIZmSHYZZuiJtf0ED9lf6BQ4JDYLE9EtTGLmKLT349WvQQ68-Iff1SUlknBAPZ1-jsFowtPOeti2mZNb4y44J0aYQYuB2vQFJkGvcLYTLMaBe4NFZGTO3~3sBqvndapp9ntv2fmw4M~4MTrIdo8rIaLYlUluq-3NNWK9LOCHr20A9BHzQJnpqkTFUd71W~6JOy3A0xcNxTVsr7fCjgYWZQUIu0RYm6IVMG0sJQzCiX6fE~lMA__&Key-Pair-Id=APKAJQIC5BGSW7XXK7FQ\"></center>\n"
      ]
    },
    {
      "cell_type": "code",
      "metadata": {
        "id": "b2SFD3oyx1In",
        "colab": {
          "base_uri": "https://localhost:8080/"
        },
        "outputId": "cbb550d4-7012-4fdd-9c84-ffc2a8f1807e"
      },
      "source": [
        "import random\n",
        "import statistics\n",
        "from scipy.stats import gmean\n",
        "# gerando a lista de teste\n",
        "lista_entrada = sorted([random.randint(0,100) for i in range(10)])\n",
        "print('A lista de teste:\\n\\t',lista_entrada)\n",
        "# definindo a função avaliando o tipo para determinar o que irá retornar\n",
        "def medias(lista, tipo='A'):\n",
        "  if tipo == 'A':\n",
        "    return statistics.mean(lista)\n",
        "  elif tipo == 'G':\n",
        "    return gmean(lista)\n",
        "  else:\n",
        "    print('### Você não forneceu corretamente qual tipo de média. ###')\n",
        "\n",
        "print(f'''Testes:\n",
        "      \\n\\tPassando o parametro \"A\": {medias(lista_entrada,'A'):.2f}\n",
        "      \\n\\tPassando o parametro \"G\": {medias(lista_entrada,'G'):.2f}\n",
        "      \\n\\tPassando o parametro de maneira errada \"z\" fora do print:\\n''')\n",
        "\n",
        "medias(lista_entrada,'z')"
      ],
      "execution_count": null,
      "outputs": [
        {
          "output_type": "stream",
          "name": "stdout",
          "text": [
            "A lista de teste:\n",
            "\t [14, 31, 38, 50, 50, 50, 58, 69, 73, 77]\n",
            "Testes:\n",
            "      \n",
            "\tPassando o parametro \"A\": 51.00\n",
            "      \n",
            "\tPassando o parametro \"G\": 46.41\n",
            "      \n",
            "\tPassando o parametro de maneira errada \"z\" fora do print:\n",
            "\n",
            "### Você não forneceu corretamente qual tipo de média. ###\n"
          ]
        }
      ]
    },
    {
      "cell_type": "markdown",
      "metadata": {
        "id": "qW6k8exeIsMt"
      },
      "source": [
        "## Exercício 08\n",
        "<center><img width=\"70%\" src=\"https://cdn.loom.com/images/originals/0788ed705be14b75854c0def973f0b13.jpg?Expires=1638127506&Policy=eyJTdGF0ZW1lbnQiOlt7IlJlc291cmNlIjoiaHR0cHM6Ly9jZG4ubG9vbS5jb20vaW1hZ2VzL29yaWdpbmFscy8wNzg4ZWQ3MDViZTE0Yjc1ODU0YzBkZWY5NzNmMGIxMy5qcGciLCJDb25kaXRpb24iOnsiRGF0ZUxlc3NUaGFuIjp7IkFXUzpFcG9jaFRpbWUiOjE2MzgxMjc1MDZ9fX1dfQ__&Signature=eKnUoAR5wrdb~NbCM9Spn~2hbOb3fLC~fj~rGgk0akVTNnYWl943zj8xM9lKCW0fllYMAmPBmiLnClQmkC4Fm~-Y9OIKC5YRxQfqWiAI3MUFk~da19lJobsXWBrh~w15fOn3PZj~SnRWenCSUc0oroR1zQlh3LlBBdP2kTApahC5JJSNi3j~-wUJI39UVmwCFnFP46066Z-sa3HGVHZXPGhcw-32fDIiwxSANbriXSIuG0pjU8L1Cp4DEwp4y~nChkqeN9Uga23oVaBKGPlYOqFO6UxO~gpUz5jeP55hin-EkILcovqtgDL98JotR7W4RjeTwoEx8eo8bLRNN~A3bw__&Key-Pair-Id=APKAJQIC5BGSW7XXK7FQ\"></center>\n"
      ]
    },
    {
      "cell_type": "code",
      "metadata": {
        "id": "vTGRlJBoEgtK",
        "colab": {
          "base_uri": "https://localhost:8080/"
        },
        "outputId": "ac31488b-def2-456c-c0a2-2f9318bbbfe8"
      },
      "source": [
        "import random\n",
        "# criando as listas de teste\n",
        "lista_a = sorted([random.randint(0,100) for i in range(10)])\n",
        "lista_b = sorted([random.randint(0,100) for i in range(10)])\n",
        "print(f'''- Lista A: {lista_a}\\n- Lista B: {lista_b}\\n''')\n",
        "# criando a função\n",
        "def interseccao (lista_a,lista_b,imprimir=False):\n",
        "  lista_interseccao = [elemento_a for elemento_a in lista_a for elemento_b in lista_b if elemento_a == elemento_b]\n",
        "  if imprimir == False:\n",
        "    return lista_interseccao\n",
        "  else:\n",
        "    print(lista_interseccao)\n",
        "    return lista_interseccao\n",
        "\n",
        "print(f'''Teste:\n",
        "- Passando o parametro \"False\": {interseccao(lista_a,lista_b,False)}\n",
        "- Passando o parametro \"True\" e avaliando o return no print: {interseccao(lista_a,lista_b,True)}\n",
        "- Chamando a função e passando o \"True\" fora do print:''')\n",
        "\n",
        "interseccao(lista_a,lista_b,True)\n"
      ],
      "execution_count": null,
      "outputs": [
        {
          "output_type": "stream",
          "name": "stdout",
          "text": [
            "- Lista A: [6, 19, 20, 21, 37, 48, 59, 88, 92, 100]\n",
            "- Lista B: [3, 6, 12, 31, 33, 42, 60, 62, 63, 67]\n",
            "\n",
            "[6]\n",
            "Teste:\n",
            "- Passando o parametro \"False\": [6]\n",
            "- Passando o parametro \"True\" e avaliando o return no print: [6]\n",
            "- Chamando a função e passando o \"True\" fora do print:\n",
            "[6]\n"
          ]
        },
        {
          "output_type": "execute_result",
          "data": {
            "text/plain": [
              "[6]"
            ]
          },
          "metadata": {},
          "execution_count": 3
        }
      ]
    }
  ]
}